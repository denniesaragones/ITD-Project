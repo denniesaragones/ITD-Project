{
 "cells": [
  {
   "cell_type": "code",
   "execution_count": 1,
   "id": "ef513dad-2357-4f4d-a149-1ccccf55f7de",
   "metadata": {},
   "outputs": [],
   "source": [
    "import numpy as np\n",
    "import pandas as pd\n",
    "import seaborn as sns\n",
    "import matplotlib.pyplot as plt"
   ]
  },
  {
   "cell_type": "code",
   "execution_count": 2,
   "id": "1962aa0b-a60c-447a-b3dc-4eb14deab0cb",
   "metadata": {},
   "outputs": [],
   "source": [
    "ibon = pd.read_csv('datasets\\\\penguins.csv')"
   ]
  },
  {
   "cell_type": "code",
   "execution_count": 3,
   "id": "bed836ce-49fe-42a2-be40-b114dafe9629",
   "metadata": {},
   "outputs": [
    {
     "data": {
      "text/html": [
       "<div>\n",
       "<style scoped>\n",
       "    .dataframe tbody tr th:only-of-type {\n",
       "        vertical-align: middle;\n",
       "    }\n",
       "\n",
       "    .dataframe tbody tr th {\n",
       "        vertical-align: top;\n",
       "    }\n",
       "\n",
       "    .dataframe thead th {\n",
       "        text-align: right;\n",
       "    }\n",
       "</style>\n",
       "<table border=\"1\" class=\"dataframe\">\n",
       "  <thead>\n",
       "    <tr style=\"text-align: right;\">\n",
       "      <th></th>\n",
       "      <th>rowid</th>\n",
       "      <th>species</th>\n",
       "      <th>island</th>\n",
       "      <th>bill_length_mm</th>\n",
       "      <th>bill_depth_mm</th>\n",
       "      <th>flipper_length_mm</th>\n",
       "      <th>body_mass_g</th>\n",
       "      <th>sex</th>\n",
       "      <th>year</th>\n",
       "    </tr>\n",
       "  </thead>\n",
       "  <tbody>\n",
       "    <tr>\n",
       "      <th>0</th>\n",
       "      <td>1</td>\n",
       "      <td>Adelie</td>\n",
       "      <td>Torgersen</td>\n",
       "      <td>39.1</td>\n",
       "      <td>18.7</td>\n",
       "      <td>181.0</td>\n",
       "      <td>3750.0</td>\n",
       "      <td>male</td>\n",
       "      <td>2007</td>\n",
       "    </tr>\n",
       "    <tr>\n",
       "      <th>1</th>\n",
       "      <td>2</td>\n",
       "      <td>Adelie</td>\n",
       "      <td>Torgersen</td>\n",
       "      <td>39.5</td>\n",
       "      <td>17.4</td>\n",
       "      <td>186.0</td>\n",
       "      <td>3800.0</td>\n",
       "      <td>female</td>\n",
       "      <td>2007</td>\n",
       "    </tr>\n",
       "    <tr>\n",
       "      <th>2</th>\n",
       "      <td>3</td>\n",
       "      <td>Adelie</td>\n",
       "      <td>Torgersen</td>\n",
       "      <td>40.3</td>\n",
       "      <td>18.0</td>\n",
       "      <td>195.0</td>\n",
       "      <td>3250.0</td>\n",
       "      <td>female</td>\n",
       "      <td>2007</td>\n",
       "    </tr>\n",
       "    <tr>\n",
       "      <th>3</th>\n",
       "      <td>4</td>\n",
       "      <td>Adelie</td>\n",
       "      <td>Torgersen</td>\n",
       "      <td>NaN</td>\n",
       "      <td>NaN</td>\n",
       "      <td>NaN</td>\n",
       "      <td>NaN</td>\n",
       "      <td>NaN</td>\n",
       "      <td>2007</td>\n",
       "    </tr>\n",
       "    <tr>\n",
       "      <th>4</th>\n",
       "      <td>5</td>\n",
       "      <td>Adelie</td>\n",
       "      <td>Torgersen</td>\n",
       "      <td>36.7</td>\n",
       "      <td>19.3</td>\n",
       "      <td>193.0</td>\n",
       "      <td>3450.0</td>\n",
       "      <td>female</td>\n",
       "      <td>2007</td>\n",
       "    </tr>\n",
       "    <tr>\n",
       "      <th>...</th>\n",
       "      <td>...</td>\n",
       "      <td>...</td>\n",
       "      <td>...</td>\n",
       "      <td>...</td>\n",
       "      <td>...</td>\n",
       "      <td>...</td>\n",
       "      <td>...</td>\n",
       "      <td>...</td>\n",
       "      <td>...</td>\n",
       "    </tr>\n",
       "    <tr>\n",
       "      <th>339</th>\n",
       "      <td>340</td>\n",
       "      <td>Chinstrap</td>\n",
       "      <td>Dream</td>\n",
       "      <td>55.8</td>\n",
       "      <td>19.8</td>\n",
       "      <td>207.0</td>\n",
       "      <td>4000.0</td>\n",
       "      <td>male</td>\n",
       "      <td>2009</td>\n",
       "    </tr>\n",
       "    <tr>\n",
       "      <th>340</th>\n",
       "      <td>341</td>\n",
       "      <td>Chinstrap</td>\n",
       "      <td>Dream</td>\n",
       "      <td>43.5</td>\n",
       "      <td>18.1</td>\n",
       "      <td>202.0</td>\n",
       "      <td>3400.0</td>\n",
       "      <td>female</td>\n",
       "      <td>2009</td>\n",
       "    </tr>\n",
       "    <tr>\n",
       "      <th>341</th>\n",
       "      <td>342</td>\n",
       "      <td>Chinstrap</td>\n",
       "      <td>Dream</td>\n",
       "      <td>49.6</td>\n",
       "      <td>18.2</td>\n",
       "      <td>193.0</td>\n",
       "      <td>3775.0</td>\n",
       "      <td>male</td>\n",
       "      <td>2009</td>\n",
       "    </tr>\n",
       "    <tr>\n",
       "      <th>342</th>\n",
       "      <td>343</td>\n",
       "      <td>Chinstrap</td>\n",
       "      <td>Dream</td>\n",
       "      <td>50.8</td>\n",
       "      <td>19.0</td>\n",
       "      <td>210.0</td>\n",
       "      <td>4100.0</td>\n",
       "      <td>male</td>\n",
       "      <td>2009</td>\n",
       "    </tr>\n",
       "    <tr>\n",
       "      <th>343</th>\n",
       "      <td>344</td>\n",
       "      <td>Chinstrap</td>\n",
       "      <td>Dream</td>\n",
       "      <td>50.2</td>\n",
       "      <td>18.7</td>\n",
       "      <td>198.0</td>\n",
       "      <td>3775.0</td>\n",
       "      <td>female</td>\n",
       "      <td>2009</td>\n",
       "    </tr>\n",
       "  </tbody>\n",
       "</table>\n",
       "<p>344 rows × 9 columns</p>\n",
       "</div>"
      ],
      "text/plain": [
       "     rowid    species     island  bill_length_mm  bill_depth_mm  \\\n",
       "0        1     Adelie  Torgersen            39.1           18.7   \n",
       "1        2     Adelie  Torgersen            39.5           17.4   \n",
       "2        3     Adelie  Torgersen            40.3           18.0   \n",
       "3        4     Adelie  Torgersen             NaN            NaN   \n",
       "4        5     Adelie  Torgersen            36.7           19.3   \n",
       "..     ...        ...        ...             ...            ...   \n",
       "339    340  Chinstrap      Dream            55.8           19.8   \n",
       "340    341  Chinstrap      Dream            43.5           18.1   \n",
       "341    342  Chinstrap      Dream            49.6           18.2   \n",
       "342    343  Chinstrap      Dream            50.8           19.0   \n",
       "343    344  Chinstrap      Dream            50.2           18.7   \n",
       "\n",
       "     flipper_length_mm  body_mass_g     sex  year  \n",
       "0                181.0       3750.0    male  2007  \n",
       "1                186.0       3800.0  female  2007  \n",
       "2                195.0       3250.0  female  2007  \n",
       "3                  NaN          NaN     NaN  2007  \n",
       "4                193.0       3450.0  female  2007  \n",
       "..                 ...          ...     ...   ...  \n",
       "339              207.0       4000.0    male  2009  \n",
       "340              202.0       3400.0  female  2009  \n",
       "341              193.0       3775.0    male  2009  \n",
       "342              210.0       4100.0    male  2009  \n",
       "343              198.0       3775.0  female  2009  \n",
       "\n",
       "[344 rows x 9 columns]"
      ]
     },
     "execution_count": 3,
     "metadata": {},
     "output_type": "execute_result"
    }
   ],
   "source": [
    "ibon"
   ]
  },
  {
   "cell_type": "code",
   "execution_count": 4,
   "id": "1bb89249-e574-48f5-b886-cb73a15d7d05",
   "metadata": {},
   "outputs": [
    {
     "name": "stdout",
     "output_type": "stream",
     "text": [
      "<class 'pandas.core.frame.DataFrame'>\n",
      "RangeIndex: 344 entries, 0 to 343\n",
      "Data columns (total 9 columns):\n",
      " #   Column             Non-Null Count  Dtype  \n",
      "---  ------             --------------  -----  \n",
      " 0   rowid              344 non-null    int64  \n",
      " 1   species            344 non-null    object \n",
      " 2   island             344 non-null    object \n",
      " 3   bill_length_mm     342 non-null    float64\n",
      " 4   bill_depth_mm      342 non-null    float64\n",
      " 5   flipper_length_mm  342 non-null    float64\n",
      " 6   body_mass_g        342 non-null    float64\n",
      " 7   sex                333 non-null    object \n",
      " 8   year               344 non-null    int64  \n",
      "dtypes: float64(4), int64(2), object(3)\n",
      "memory usage: 24.3+ KB\n"
     ]
    }
   ],
   "source": [
    "ibon.info()"
   ]
  },
  {
   "cell_type": "code",
   "execution_count": 5,
   "id": "73eb0656-0d19-410c-9dba-4d66d7f7c03c",
   "metadata": {},
   "outputs": [
    {
     "data": {
      "text/plain": [
       "rowid                 0\n",
       "species               0\n",
       "island                0\n",
       "bill_length_mm        2\n",
       "bill_depth_mm         2\n",
       "flipper_length_mm     2\n",
       "body_mass_g           2\n",
       "sex                  11\n",
       "year                  0\n",
       "dtype: int64"
      ]
     },
     "execution_count": 5,
     "metadata": {},
     "output_type": "execute_result"
    }
   ],
   "source": [
    "ibon.isnull().sum()"
   ]
  },
  {
   "cell_type": "code",
   "execution_count": 6,
   "id": "f0c2617b-560c-4d57-88c7-ee831ef1250d",
   "metadata": {},
   "outputs": [],
   "source": [
    "ibon['bill_length_mm'] = ibon['bill_length_mm'].fillna(ibon['bill_length_mm'].mean())"
   ]
  },
  {
   "cell_type": "code",
   "execution_count": 7,
   "id": "c861327c-6eef-4687-a67c-d3dd9b7fda51",
   "metadata": {},
   "outputs": [],
   "source": [
    "ibon['bill_depth_mm'] = ibon['bill_depth_mm'].fillna(ibon['bill_depth_mm'].mean())"
   ]
  },
  {
   "cell_type": "code",
   "execution_count": 8,
   "id": "4a47e2b6-fcb6-46b2-b4a9-22798cec645c",
   "metadata": {},
   "outputs": [],
   "source": [
    "ibon['flipper_length_mm'] = ibon['flipper_length_mm'].fillna(ibon['flipper_length_mm'].mean())"
   ]
  },
  {
   "cell_type": "code",
   "execution_count": 9,
   "id": "0e9bb680-6c35-47bd-b98f-3e0630f0c70f",
   "metadata": {},
   "outputs": [],
   "source": [
    "ibon['body_mass_g'] = ibon['body_mass_g'].fillna(ibon['body_mass_g'].mean())"
   ]
  },
  {
   "cell_type": "code",
   "execution_count": 10,
   "id": "e255f65b-2f5c-4b28-ad95-ac7fc40806e2",
   "metadata": {},
   "outputs": [],
   "source": [
    "ibon['sex'] = ibon['sex'].fillna(ibon['sex'].mode()[0])"
   ]
  },
  {
   "cell_type": "code",
   "execution_count": 11,
   "id": "487d4e8c-c5aa-48fb-baf6-cf8a919d327b",
   "metadata": {},
   "outputs": [
    {
     "data": {
      "text/plain": [
       "rowid                  int64\n",
       "species               object\n",
       "island                object\n",
       "bill_length_mm       float64\n",
       "bill_depth_mm        float64\n",
       "flipper_length_mm    float64\n",
       "body_mass_g          float64\n",
       "sex                   object\n",
       "year                   int64\n",
       "dtype: object"
      ]
     },
     "execution_count": 11,
     "metadata": {},
     "output_type": "execute_result"
    }
   ],
   "source": [
    "ibon.dtypes"
   ]
  },
  {
   "cell_type": "code",
   "execution_count": 12,
   "id": "5e39c139-cb74-4b5b-a8e6-33cf40638a7a",
   "metadata": {},
   "outputs": [],
   "source": [
    "ibon['rowid'] = ibon['rowid'].astype('category')"
   ]
  },
  {
   "cell_type": "code",
   "execution_count": 13,
   "id": "55211f6a-c185-4502-a4d1-8e762ed5af2f",
   "metadata": {},
   "outputs": [],
   "source": [
    "ibon['species'] = ibon['species'].astype('category')"
   ]
  },
  {
   "cell_type": "code",
   "execution_count": 14,
   "id": "79b19d4e-3dbd-4322-b7e4-07658ba71484",
   "metadata": {},
   "outputs": [],
   "source": [
    "ibon['island'] = ibon['island'].astype('category')"
   ]
  },
  {
   "cell_type": "code",
   "execution_count": 15,
   "id": "9136318b-6e04-4070-a21d-29f3f0bdaea3",
   "metadata": {},
   "outputs": [],
   "source": [
    "ibon['sex'] = ibon['sex'].astype('category')"
   ]
  },
  {
   "cell_type": "code",
   "execution_count": 16,
   "id": "30352265-dd83-41e7-91b5-5fd9d7ab4943",
   "metadata": {},
   "outputs": [],
   "source": [
    "ibon['year'] = ibon['year'].astype('category')"
   ]
  },
  {
   "cell_type": "code",
   "execution_count": 17,
   "id": "77110a1a-908d-4f91-bb55-d557779e9776",
   "metadata": {},
   "outputs": [
    {
     "data": {
      "text/plain": [
       "0       True\n",
       "1       True\n",
       "2       True\n",
       "3       True\n",
       "4       True\n",
       "       ...  \n",
       "339    False\n",
       "340    False\n",
       "341    False\n",
       "342    False\n",
       "343    False\n",
       "Name: species, Length: 344, dtype: bool"
      ]
     },
     "execution_count": 17,
     "metadata": {},
     "output_type": "execute_result"
    }
   ],
   "source": [
    "ibon['species'] == \"Adelie\""
   ]
  },
  {
   "cell_type": "code",
   "execution_count": 18,
   "id": "d68f6a16-f20d-4880-838c-ace4d296fd43",
   "metadata": {},
   "outputs": [
    {
     "data": {
      "text/html": [
       "<div>\n",
       "<style scoped>\n",
       "    .dataframe tbody tr th:only-of-type {\n",
       "        vertical-align: middle;\n",
       "    }\n",
       "\n",
       "    .dataframe tbody tr th {\n",
       "        vertical-align: top;\n",
       "    }\n",
       "\n",
       "    .dataframe thead th {\n",
       "        text-align: right;\n",
       "    }\n",
       "</style>\n",
       "<table border=\"1\" class=\"dataframe\">\n",
       "  <thead>\n",
       "    <tr style=\"text-align: right;\">\n",
       "      <th></th>\n",
       "      <th>rowid</th>\n",
       "      <th>species</th>\n",
       "      <th>island</th>\n",
       "      <th>bill_length_mm</th>\n",
       "      <th>bill_depth_mm</th>\n",
       "      <th>flipper_length_mm</th>\n",
       "      <th>body_mass_g</th>\n",
       "      <th>sex</th>\n",
       "      <th>year</th>\n",
       "    </tr>\n",
       "  </thead>\n",
       "  <tbody>\n",
       "    <tr>\n",
       "      <th>0</th>\n",
       "      <td>1</td>\n",
       "      <td>Adelie</td>\n",
       "      <td>Torgersen</td>\n",
       "      <td>39.10000</td>\n",
       "      <td>18.70000</td>\n",
       "      <td>181.000000</td>\n",
       "      <td>3750.000000</td>\n",
       "      <td>male</td>\n",
       "      <td>2007</td>\n",
       "    </tr>\n",
       "    <tr>\n",
       "      <th>1</th>\n",
       "      <td>2</td>\n",
       "      <td>Adelie</td>\n",
       "      <td>Torgersen</td>\n",
       "      <td>39.50000</td>\n",
       "      <td>17.40000</td>\n",
       "      <td>186.000000</td>\n",
       "      <td>3800.000000</td>\n",
       "      <td>female</td>\n",
       "      <td>2007</td>\n",
       "    </tr>\n",
       "    <tr>\n",
       "      <th>2</th>\n",
       "      <td>3</td>\n",
       "      <td>Adelie</td>\n",
       "      <td>Torgersen</td>\n",
       "      <td>40.30000</td>\n",
       "      <td>18.00000</td>\n",
       "      <td>195.000000</td>\n",
       "      <td>3250.000000</td>\n",
       "      <td>female</td>\n",
       "      <td>2007</td>\n",
       "    </tr>\n",
       "    <tr>\n",
       "      <th>3</th>\n",
       "      <td>4</td>\n",
       "      <td>Adelie</td>\n",
       "      <td>Torgersen</td>\n",
       "      <td>43.92193</td>\n",
       "      <td>17.15117</td>\n",
       "      <td>200.915205</td>\n",
       "      <td>4201.754386</td>\n",
       "      <td>male</td>\n",
       "      <td>2007</td>\n",
       "    </tr>\n",
       "    <tr>\n",
       "      <th>4</th>\n",
       "      <td>5</td>\n",
       "      <td>Adelie</td>\n",
       "      <td>Torgersen</td>\n",
       "      <td>36.70000</td>\n",
       "      <td>19.30000</td>\n",
       "      <td>193.000000</td>\n",
       "      <td>3450.000000</td>\n",
       "      <td>female</td>\n",
       "      <td>2007</td>\n",
       "    </tr>\n",
       "    <tr>\n",
       "      <th>...</th>\n",
       "      <td>...</td>\n",
       "      <td>...</td>\n",
       "      <td>...</td>\n",
       "      <td>...</td>\n",
       "      <td>...</td>\n",
       "      <td>...</td>\n",
       "      <td>...</td>\n",
       "      <td>...</td>\n",
       "      <td>...</td>\n",
       "    </tr>\n",
       "    <tr>\n",
       "      <th>147</th>\n",
       "      <td>148</td>\n",
       "      <td>Adelie</td>\n",
       "      <td>Dream</td>\n",
       "      <td>36.60000</td>\n",
       "      <td>18.40000</td>\n",
       "      <td>184.000000</td>\n",
       "      <td>3475.000000</td>\n",
       "      <td>female</td>\n",
       "      <td>2009</td>\n",
       "    </tr>\n",
       "    <tr>\n",
       "      <th>148</th>\n",
       "      <td>149</td>\n",
       "      <td>Adelie</td>\n",
       "      <td>Dream</td>\n",
       "      <td>36.00000</td>\n",
       "      <td>17.80000</td>\n",
       "      <td>195.000000</td>\n",
       "      <td>3450.000000</td>\n",
       "      <td>female</td>\n",
       "      <td>2009</td>\n",
       "    </tr>\n",
       "    <tr>\n",
       "      <th>149</th>\n",
       "      <td>150</td>\n",
       "      <td>Adelie</td>\n",
       "      <td>Dream</td>\n",
       "      <td>37.80000</td>\n",
       "      <td>18.10000</td>\n",
       "      <td>193.000000</td>\n",
       "      <td>3750.000000</td>\n",
       "      <td>male</td>\n",
       "      <td>2009</td>\n",
       "    </tr>\n",
       "    <tr>\n",
       "      <th>150</th>\n",
       "      <td>151</td>\n",
       "      <td>Adelie</td>\n",
       "      <td>Dream</td>\n",
       "      <td>36.00000</td>\n",
       "      <td>17.10000</td>\n",
       "      <td>187.000000</td>\n",
       "      <td>3700.000000</td>\n",
       "      <td>female</td>\n",
       "      <td>2009</td>\n",
       "    </tr>\n",
       "    <tr>\n",
       "      <th>151</th>\n",
       "      <td>152</td>\n",
       "      <td>Adelie</td>\n",
       "      <td>Dream</td>\n",
       "      <td>41.50000</td>\n",
       "      <td>18.50000</td>\n",
       "      <td>201.000000</td>\n",
       "      <td>4000.000000</td>\n",
       "      <td>male</td>\n",
       "      <td>2009</td>\n",
       "    </tr>\n",
       "  </tbody>\n",
       "</table>\n",
       "<p>152 rows × 9 columns</p>\n",
       "</div>"
      ],
      "text/plain": [
       "    rowid species     island  bill_length_mm  bill_depth_mm  \\\n",
       "0       1  Adelie  Torgersen        39.10000       18.70000   \n",
       "1       2  Adelie  Torgersen        39.50000       17.40000   \n",
       "2       3  Adelie  Torgersen        40.30000       18.00000   \n",
       "3       4  Adelie  Torgersen        43.92193       17.15117   \n",
       "4       5  Adelie  Torgersen        36.70000       19.30000   \n",
       "..    ...     ...        ...             ...            ...   \n",
       "147   148  Adelie      Dream        36.60000       18.40000   \n",
       "148   149  Adelie      Dream        36.00000       17.80000   \n",
       "149   150  Adelie      Dream        37.80000       18.10000   \n",
       "150   151  Adelie      Dream        36.00000       17.10000   \n",
       "151   152  Adelie      Dream        41.50000       18.50000   \n",
       "\n",
       "     flipper_length_mm  body_mass_g     sex  year  \n",
       "0           181.000000  3750.000000    male  2007  \n",
       "1           186.000000  3800.000000  female  2007  \n",
       "2           195.000000  3250.000000  female  2007  \n",
       "3           200.915205  4201.754386    male  2007  \n",
       "4           193.000000  3450.000000  female  2007  \n",
       "..                 ...          ...     ...   ...  \n",
       "147         184.000000  3475.000000  female  2009  \n",
       "148         195.000000  3450.000000  female  2009  \n",
       "149         193.000000  3750.000000    male  2009  \n",
       "150         187.000000  3700.000000  female  2009  \n",
       "151         201.000000  4000.000000    male  2009  \n",
       "\n",
       "[152 rows x 9 columns]"
      ]
     },
     "execution_count": 18,
     "metadata": {},
     "output_type": "execute_result"
    }
   ],
   "source": [
    "ibon[ibon['species'] == \"Adelie\"]"
   ]
  },
  {
   "cell_type": "code",
   "execution_count": 19,
   "id": "cf69cc18-a8bd-4421-a335-8f6e06cc7577",
   "metadata": {},
   "outputs": [
    {
     "data": {
      "text/plain": [
       "0      False\n",
       "1      False\n",
       "2      False\n",
       "3      False\n",
       "4      False\n",
       "       ...  \n",
       "339    False\n",
       "340    False\n",
       "341    False\n",
       "342    False\n",
       "343    False\n",
       "Name: island, Length: 344, dtype: bool"
      ]
     },
     "execution_count": 19,
     "metadata": {},
     "output_type": "execute_result"
    }
   ],
   "source": [
    "ibon['island'] == 'Biscoe'"
   ]
  },
  {
   "cell_type": "code",
   "execution_count": 20,
   "id": "1161d384-1727-49ea-bc13-498883b18a9b",
   "metadata": {},
   "outputs": [
    {
     "data": {
      "text/html": [
       "<div>\n",
       "<style scoped>\n",
       "    .dataframe tbody tr th:only-of-type {\n",
       "        vertical-align: middle;\n",
       "    }\n",
       "\n",
       "    .dataframe tbody tr th {\n",
       "        vertical-align: top;\n",
       "    }\n",
       "\n",
       "    .dataframe thead th {\n",
       "        text-align: right;\n",
       "    }\n",
       "</style>\n",
       "<table border=\"1\" class=\"dataframe\">\n",
       "  <thead>\n",
       "    <tr style=\"text-align: right;\">\n",
       "      <th></th>\n",
       "      <th>rowid</th>\n",
       "      <th>species</th>\n",
       "      <th>island</th>\n",
       "      <th>bill_length_mm</th>\n",
       "      <th>bill_depth_mm</th>\n",
       "      <th>flipper_length_mm</th>\n",
       "      <th>body_mass_g</th>\n",
       "      <th>sex</th>\n",
       "      <th>year</th>\n",
       "    </tr>\n",
       "  </thead>\n",
       "  <tbody>\n",
       "    <tr>\n",
       "      <th>20</th>\n",
       "      <td>21</td>\n",
       "      <td>Adelie</td>\n",
       "      <td>Biscoe</td>\n",
       "      <td>37.80000</td>\n",
       "      <td>18.30000</td>\n",
       "      <td>174.000000</td>\n",
       "      <td>3400.000000</td>\n",
       "      <td>female</td>\n",
       "      <td>2007</td>\n",
       "    </tr>\n",
       "    <tr>\n",
       "      <th>21</th>\n",
       "      <td>22</td>\n",
       "      <td>Adelie</td>\n",
       "      <td>Biscoe</td>\n",
       "      <td>37.70000</td>\n",
       "      <td>18.70000</td>\n",
       "      <td>180.000000</td>\n",
       "      <td>3600.000000</td>\n",
       "      <td>male</td>\n",
       "      <td>2007</td>\n",
       "    </tr>\n",
       "    <tr>\n",
       "      <th>22</th>\n",
       "      <td>23</td>\n",
       "      <td>Adelie</td>\n",
       "      <td>Biscoe</td>\n",
       "      <td>35.90000</td>\n",
       "      <td>19.20000</td>\n",
       "      <td>189.000000</td>\n",
       "      <td>3800.000000</td>\n",
       "      <td>female</td>\n",
       "      <td>2007</td>\n",
       "    </tr>\n",
       "    <tr>\n",
       "      <th>23</th>\n",
       "      <td>24</td>\n",
       "      <td>Adelie</td>\n",
       "      <td>Biscoe</td>\n",
       "      <td>38.20000</td>\n",
       "      <td>18.10000</td>\n",
       "      <td>185.000000</td>\n",
       "      <td>3950.000000</td>\n",
       "      <td>male</td>\n",
       "      <td>2007</td>\n",
       "    </tr>\n",
       "    <tr>\n",
       "      <th>24</th>\n",
       "      <td>25</td>\n",
       "      <td>Adelie</td>\n",
       "      <td>Biscoe</td>\n",
       "      <td>38.80000</td>\n",
       "      <td>17.20000</td>\n",
       "      <td>180.000000</td>\n",
       "      <td>3800.000000</td>\n",
       "      <td>male</td>\n",
       "      <td>2007</td>\n",
       "    </tr>\n",
       "    <tr>\n",
       "      <th>...</th>\n",
       "      <td>...</td>\n",
       "      <td>...</td>\n",
       "      <td>...</td>\n",
       "      <td>...</td>\n",
       "      <td>...</td>\n",
       "      <td>...</td>\n",
       "      <td>...</td>\n",
       "      <td>...</td>\n",
       "      <td>...</td>\n",
       "    </tr>\n",
       "    <tr>\n",
       "      <th>271</th>\n",
       "      <td>272</td>\n",
       "      <td>Gentoo</td>\n",
       "      <td>Biscoe</td>\n",
       "      <td>43.92193</td>\n",
       "      <td>17.15117</td>\n",
       "      <td>200.915205</td>\n",
       "      <td>4201.754386</td>\n",
       "      <td>male</td>\n",
       "      <td>2009</td>\n",
       "    </tr>\n",
       "    <tr>\n",
       "      <th>272</th>\n",
       "      <td>273</td>\n",
       "      <td>Gentoo</td>\n",
       "      <td>Biscoe</td>\n",
       "      <td>46.80000</td>\n",
       "      <td>14.30000</td>\n",
       "      <td>215.000000</td>\n",
       "      <td>4850.000000</td>\n",
       "      <td>female</td>\n",
       "      <td>2009</td>\n",
       "    </tr>\n",
       "    <tr>\n",
       "      <th>273</th>\n",
       "      <td>274</td>\n",
       "      <td>Gentoo</td>\n",
       "      <td>Biscoe</td>\n",
       "      <td>50.40000</td>\n",
       "      <td>15.70000</td>\n",
       "      <td>222.000000</td>\n",
       "      <td>5750.000000</td>\n",
       "      <td>male</td>\n",
       "      <td>2009</td>\n",
       "    </tr>\n",
       "    <tr>\n",
       "      <th>274</th>\n",
       "      <td>275</td>\n",
       "      <td>Gentoo</td>\n",
       "      <td>Biscoe</td>\n",
       "      <td>45.20000</td>\n",
       "      <td>14.80000</td>\n",
       "      <td>212.000000</td>\n",
       "      <td>5200.000000</td>\n",
       "      <td>female</td>\n",
       "      <td>2009</td>\n",
       "    </tr>\n",
       "    <tr>\n",
       "      <th>275</th>\n",
       "      <td>276</td>\n",
       "      <td>Gentoo</td>\n",
       "      <td>Biscoe</td>\n",
       "      <td>49.90000</td>\n",
       "      <td>16.10000</td>\n",
       "      <td>213.000000</td>\n",
       "      <td>5400.000000</td>\n",
       "      <td>male</td>\n",
       "      <td>2009</td>\n",
       "    </tr>\n",
       "  </tbody>\n",
       "</table>\n",
       "<p>168 rows × 9 columns</p>\n",
       "</div>"
      ],
      "text/plain": [
       "    rowid species  island  bill_length_mm  bill_depth_mm  flipper_length_mm  \\\n",
       "20     21  Adelie  Biscoe        37.80000       18.30000         174.000000   \n",
       "21     22  Adelie  Biscoe        37.70000       18.70000         180.000000   \n",
       "22     23  Adelie  Biscoe        35.90000       19.20000         189.000000   \n",
       "23     24  Adelie  Biscoe        38.20000       18.10000         185.000000   \n",
       "24     25  Adelie  Biscoe        38.80000       17.20000         180.000000   \n",
       "..    ...     ...     ...             ...            ...                ...   \n",
       "271   272  Gentoo  Biscoe        43.92193       17.15117         200.915205   \n",
       "272   273  Gentoo  Biscoe        46.80000       14.30000         215.000000   \n",
       "273   274  Gentoo  Biscoe        50.40000       15.70000         222.000000   \n",
       "274   275  Gentoo  Biscoe        45.20000       14.80000         212.000000   \n",
       "275   276  Gentoo  Biscoe        49.90000       16.10000         213.000000   \n",
       "\n",
       "     body_mass_g     sex  year  \n",
       "20   3400.000000  female  2007  \n",
       "21   3600.000000    male  2007  \n",
       "22   3800.000000  female  2007  \n",
       "23   3950.000000    male  2007  \n",
       "24   3800.000000    male  2007  \n",
       "..           ...     ...   ...  \n",
       "271  4201.754386    male  2009  \n",
       "272  4850.000000  female  2009  \n",
       "273  5750.000000    male  2009  \n",
       "274  5200.000000  female  2009  \n",
       "275  5400.000000    male  2009  \n",
       "\n",
       "[168 rows x 9 columns]"
      ]
     },
     "execution_count": 20,
     "metadata": {},
     "output_type": "execute_result"
    }
   ],
   "source": [
    "ibon[ibon['island'] == 'Biscoe']"
   ]
  },
  {
   "cell_type": "markdown",
   "id": "dd3de65b-f71c-4589-96bd-ea90965b0356",
   "metadata": {},
   "source": [
    "<h1> #1 Does the penguins species 'adelie' lives exclusive lives in specific Island?</h1>"
   ]
  },
  {
   "cell_type": "code",
   "execution_count": 21,
   "id": "824b2901-8924-4163-809d-0398d5d1d80b",
   "metadata": {},
   "outputs": [
    {
     "data": {
      "text/plain": [
       "species\n",
       "Adelie       152\n",
       "Gentoo       124\n",
       "Chinstrap     68\n",
       "Name: count, dtype: int64"
      ]
     },
     "execution_count": 21,
     "metadata": {},
     "output_type": "execute_result"
    }
   ],
   "source": [
    "ibon['species'].value_counts()"
   ]
  },
  {
   "cell_type": "code",
   "execution_count": 22,
   "id": "2486159e-058d-4d19-91df-03c79073041a",
   "metadata": {},
   "outputs": [
    {
     "data": {
      "text/plain": [
       "island\n",
       "Biscoe       168\n",
       "Dream        124\n",
       "Torgersen     52\n",
       "Name: count, dtype: int64"
      ]
     },
     "execution_count": 22,
     "metadata": {},
     "output_type": "execute_result"
    }
   ],
   "source": [
    "ibon['island'].value_counts()"
   ]
  },
  {
   "cell_type": "code",
   "execution_count": 23,
   "id": "a3aa15ef-2d42-47ed-871f-1d27de7023b5",
   "metadata": {},
   "outputs": [
    {
     "data": {
      "text/plain": [
       "rowid                44\n",
       "species              44\n",
       "island               44\n",
       "bill_length_mm       44\n",
       "bill_depth_mm        44\n",
       "flipper_length_mm    44\n",
       "body_mass_g          44\n",
       "sex                  44\n",
       "year                 44\n",
       "dtype: int64"
      ]
     },
     "execution_count": 23,
     "metadata": {},
     "output_type": "execute_result"
    }
   ],
   "source": [
    "ibon[(ibon['species'] == \"Adelie\") & (ibon['island'] == 'Biscoe')].count()"
   ]
  },
  {
   "cell_type": "code",
   "execution_count": 24,
   "id": "5f8806ea-36e5-45d3-86ed-e3c00a7f4d88",
   "metadata": {},
   "outputs": [
    {
     "data": {
      "text/plain": [
       "rowid                56\n",
       "species              56\n",
       "island               56\n",
       "bill_length_mm       56\n",
       "bill_depth_mm        56\n",
       "flipper_length_mm    56\n",
       "body_mass_g          56\n",
       "sex                  56\n",
       "year                 56\n",
       "dtype: int64"
      ]
     },
     "execution_count": 24,
     "metadata": {},
     "output_type": "execute_result"
    }
   ],
   "source": [
    "ibon[(ibon['species'] == \"Adelie\") & (ibon['island'] == 'Dream')].count()"
   ]
  },
  {
   "cell_type": "code",
   "execution_count": 25,
   "id": "198c89a8-e9c4-4375-bc96-e403c01a04ce",
   "metadata": {},
   "outputs": [
    {
     "data": {
      "text/plain": [
       "rowid                52\n",
       "species              52\n",
       "island               52\n",
       "bill_length_mm       52\n",
       "bill_depth_mm        52\n",
       "flipper_length_mm    52\n",
       "body_mass_g          52\n",
       "sex                  52\n",
       "year                 52\n",
       "dtype: int64"
      ]
     },
     "execution_count": 25,
     "metadata": {},
     "output_type": "execute_result"
    }
   ],
   "source": [
    "ibon[(ibon['species'] == \"Adelie\") & (ibon['island'] == 'Torgersen')].count()"
   ]
  },
  {
   "cell_type": "markdown",
   "id": "3a47099c-87b5-4eab-b258-9e0eff4d58a6",
   "metadata": {},
   "source": [
    "<h1>Insight for no.1</h1>\n",
    "<h2>No, adelie does not exclusively lives in an island</h2>"
   ]
  },
  {
   "cell_type": "code",
   "execution_count": 26,
   "id": "5171d673-474d-4ac9-a48b-46c311169fe4",
   "metadata": {},
   "outputs": [],
   "source": [
    "ibon['wkilo'] = np.round(ibon['body_mass_g'] / 1000, 1)"
   ]
  },
  {
   "cell_type": "markdown",
   "id": "a8761e4a-1d23-416e-af5e-a36e5c793692",
   "metadata": {},
   "source": [
    "<h1>#2 Gento</h1>"
   ]
  },
  {
   "cell_type": "code",
   "execution_count": 27,
   "id": "cbc44903-d304-4a64-a74e-e92747f5cbf3",
   "metadata": {},
   "outputs": [],
   "source": [
    "Gentoo_bis = ibon[(ibon['species'] == \"Gentoo\") & (ibon['island'] == 'Biscoe')]"
   ]
  },
  {
   "cell_type": "code",
   "execution_count": 28,
   "id": "57cbbfdf-b1c4-47c7-a1a5-22bb8dcdab23",
   "metadata": {},
   "outputs": [],
   "source": [
    "Gentoo_dre = ibon[(ibon['species'] == \"Gentoo\") & (ibon['island'] == 'Dream')]"
   ]
  },
  {
   "cell_type": "code",
   "execution_count": 29,
   "id": "00d61fcf-c3d3-41d7-b532-b5d6e795d7f0",
   "metadata": {},
   "outputs": [],
   "source": [
    "Gentoo_torg = ibon[(ibon['species'] == \"Gentoo\") & (ibon['island'] == 'Torgersen')]"
   ]
  },
  {
   "cell_type": "code",
   "execution_count": 30,
   "id": "cdadf675-b641-433a-a5db-c7d2db5b8447",
   "metadata": {},
   "outputs": [
    {
     "data": {
      "text/plain": [
       "np.float64(5.1)"
      ]
     },
     "execution_count": 30,
     "metadata": {},
     "output_type": "execute_result"
    }
   ],
   "source": [
    "np.round(Gentoo_bis['wkilo'].mean(), 1)"
   ]
  },
  {
   "cell_type": "code",
   "execution_count": 31,
   "id": "c0ac1b44-f601-449d-a3c2-f14c5282a64f",
   "metadata": {},
   "outputs": [
    {
     "data": {
      "text/plain": [
       "np.float64(nan)"
      ]
     },
     "execution_count": 31,
     "metadata": {},
     "output_type": "execute_result"
    }
   ],
   "source": [
    "np.round(Gentoo_dre['wkilo'].mean(), 1)"
   ]
  },
  {
   "cell_type": "code",
   "execution_count": 32,
   "id": "0574efc8-59ca-4123-83fc-31819544afc6",
   "metadata": {},
   "outputs": [
    {
     "data": {
      "text/plain": [
       "np.float64(nan)"
      ]
     },
     "execution_count": 32,
     "metadata": {},
     "output_type": "execute_result"
    }
   ],
   "source": [
    "np.round(Gentoo_torg['wkilo'].mean(), 1)"
   ]
  },
  {
   "cell_type": "markdown",
   "id": "4b83add6-6e54-4ce8-95cc-66838100e7fc",
   "metadata": {},
   "source": [
    "<h1>Insight for no.2</h1>\n",
    "<h2>Yes, Gento does live exclusively lives in an island of Biscoe</h2>"
   ]
  },
  {
   "cell_type": "markdown",
   "id": "7ddf43be-524c-4fa7-b188-139499f803fd",
   "metadata": {},
   "source": [
    "<h1>#3 Chinstrap</h1>"
   ]
  },
  {
   "cell_type": "code",
   "execution_count": 33,
   "id": "a5a1b465-81d6-42bc-a5a8-250521ed289d",
   "metadata": {},
   "outputs": [],
   "source": [
    "Chinstrap_bis = ibon[(ibon['species'] == \"Chinstrap\") & (ibon['island'] == 'Biscoe')]"
   ]
  },
  {
   "cell_type": "code",
   "execution_count": 34,
   "id": "096059ae-328e-4610-a9e2-b7b4aff94414",
   "metadata": {},
   "outputs": [],
   "source": [
    "Chinstrap_dre = ibon[(ibon['species'] == \"Chinstrap\") & (ibon['island'] == 'Dream')]"
   ]
  },
  {
   "cell_type": "code",
   "execution_count": 35,
   "id": "48b0c3d5-17bb-453f-b493-ce6efb7f66d6",
   "metadata": {},
   "outputs": [],
   "source": [
    "Chinstrap_torg = ibon[(ibon['species'] == \"Chinstrap\") & (ibon['island'] == 'Torgersen')]"
   ]
  },
  {
   "cell_type": "code",
   "execution_count": 36,
   "id": "6fa843b3-cf79-4eaf-951d-c0982e6c8de5",
   "metadata": {},
   "outputs": [
    {
     "data": {
      "text/plain": [
       "np.float64(nan)"
      ]
     },
     "execution_count": 36,
     "metadata": {},
     "output_type": "execute_result"
    }
   ],
   "source": [
    "np.round(Chinstrap_bis['wkilo'].mean(), 1)"
   ]
  },
  {
   "cell_type": "code",
   "execution_count": 37,
   "id": "39aa7c99-ecd9-4d7d-b689-543b2ec3e2c1",
   "metadata": {},
   "outputs": [
    {
     "data": {
      "text/plain": [
       "np.float64(3.7)"
      ]
     },
     "execution_count": 37,
     "metadata": {},
     "output_type": "execute_result"
    }
   ],
   "source": [
    "np.round(Chinstrap_dre['wkilo'].mean(), 1)"
   ]
  },
  {
   "cell_type": "code",
   "execution_count": 38,
   "id": "f1706fc2-ba06-4d2e-9abb-f40480cf4ade",
   "metadata": {},
   "outputs": [
    {
     "data": {
      "text/plain": [
       "np.float64(nan)"
      ]
     },
     "execution_count": 38,
     "metadata": {},
     "output_type": "execute_result"
    }
   ],
   "source": [
    "np.round(Chinstrap_torg['wkilo'].mean(), 1)"
   ]
  },
  {
   "cell_type": "markdown",
   "id": "8e75e267-fc31-4b69-9419-ec797c5c7bff",
   "metadata": {},
   "source": [
    "<h1>Insight for no.3</h1>\n",
    "<h2>Yes, Chinstrap does live exclusively lives in an island of Dream</h2>"
   ]
  },
  {
   "cell_type": "markdown",
   "id": "bc6b13aa-60ae-4663-bd6b-1138d22bfcf9",
   "metadata": {},
   "source": [
    "<h1>#4 Does the Island affects the weight or body mass of species?</h1>"
   ]
  },
  {
   "cell_type": "code",
   "execution_count": 39,
   "id": "76c81725-bbc0-4ebd-8740-e576e49da477",
   "metadata": {},
   "outputs": [],
   "source": [
    "Adelie_bis = ibon[(ibon['species'] == \"Adelie\") & (ibon['island'] == 'Biscoe')]"
   ]
  },
  {
   "cell_type": "code",
   "execution_count": 40,
   "id": "44f65985-34aa-4d09-9a15-eaff7e5edb37",
   "metadata": {},
   "outputs": [],
   "source": [
    "Adelie_dre = ibon[(ibon['species'] == \"Adelie\") & (ibon['island'] == 'Dream')]"
   ]
  },
  {
   "cell_type": "code",
   "execution_count": 41,
   "id": "041c493a-b9da-4ac0-bc89-07c9d1b41dd8",
   "metadata": {},
   "outputs": [],
   "source": [
    "Adelie_torg = ibon[(ibon['species'] == \"Adelie\") & (ibon['island'] == 'Torgersen')]"
   ]
  },
  {
   "cell_type": "code",
   "execution_count": 42,
   "id": "27e57e67-cb54-4bfe-90f1-256c9bb8ab44",
   "metadata": {},
   "outputs": [
    {
     "data": {
      "text/html": [
       "<div>\n",
       "<style scoped>\n",
       "    .dataframe tbody tr th:only-of-type {\n",
       "        vertical-align: middle;\n",
       "    }\n",
       "\n",
       "    .dataframe tbody tr th {\n",
       "        vertical-align: top;\n",
       "    }\n",
       "\n",
       "    .dataframe thead th {\n",
       "        text-align: right;\n",
       "    }\n",
       "</style>\n",
       "<table border=\"1\" class=\"dataframe\">\n",
       "  <thead>\n",
       "    <tr style=\"text-align: right;\">\n",
       "      <th></th>\n",
       "      <th>rowid</th>\n",
       "      <th>species</th>\n",
       "      <th>island</th>\n",
       "      <th>bill_length_mm</th>\n",
       "      <th>bill_depth_mm</th>\n",
       "      <th>flipper_length_mm</th>\n",
       "      <th>body_mass_g</th>\n",
       "      <th>sex</th>\n",
       "      <th>year</th>\n",
       "      <th>wkilo</th>\n",
       "    </tr>\n",
       "  </thead>\n",
       "  <tbody>\n",
       "    <tr>\n",
       "      <th>20</th>\n",
       "      <td>21</td>\n",
       "      <td>Adelie</td>\n",
       "      <td>Biscoe</td>\n",
       "      <td>37.8</td>\n",
       "      <td>18.3</td>\n",
       "      <td>174.0</td>\n",
       "      <td>3400.0</td>\n",
       "      <td>female</td>\n",
       "      <td>2007</td>\n",
       "      <td>3.4</td>\n",
       "    </tr>\n",
       "    <tr>\n",
       "      <th>21</th>\n",
       "      <td>22</td>\n",
       "      <td>Adelie</td>\n",
       "      <td>Biscoe</td>\n",
       "      <td>37.7</td>\n",
       "      <td>18.7</td>\n",
       "      <td>180.0</td>\n",
       "      <td>3600.0</td>\n",
       "      <td>male</td>\n",
       "      <td>2007</td>\n",
       "      <td>3.6</td>\n",
       "    </tr>\n",
       "    <tr>\n",
       "      <th>22</th>\n",
       "      <td>23</td>\n",
       "      <td>Adelie</td>\n",
       "      <td>Biscoe</td>\n",
       "      <td>35.9</td>\n",
       "      <td>19.2</td>\n",
       "      <td>189.0</td>\n",
       "      <td>3800.0</td>\n",
       "      <td>female</td>\n",
       "      <td>2007</td>\n",
       "      <td>3.8</td>\n",
       "    </tr>\n",
       "  </tbody>\n",
       "</table>\n",
       "</div>"
      ],
      "text/plain": [
       "   rowid species  island  bill_length_mm  bill_depth_mm  flipper_length_mm  \\\n",
       "20    21  Adelie  Biscoe            37.8           18.3              174.0   \n",
       "21    22  Adelie  Biscoe            37.7           18.7              180.0   \n",
       "22    23  Adelie  Biscoe            35.9           19.2              189.0   \n",
       "\n",
       "    body_mass_g     sex  year  wkilo  \n",
       "20       3400.0  female  2007    3.4  \n",
       "21       3600.0    male  2007    3.6  \n",
       "22       3800.0  female  2007    3.8  "
      ]
     },
     "execution_count": 42,
     "metadata": {},
     "output_type": "execute_result"
    }
   ],
   "source": [
    "Adelie_bis.head(3)"
   ]
  },
  {
   "cell_type": "code",
   "execution_count": 43,
   "id": "40a7f68f-563c-4500-951c-d49f8e532fd9",
   "metadata": {},
   "outputs": [
    {
     "data": {
      "text/plain": [
       "np.float64(3.7)"
      ]
     },
     "execution_count": 43,
     "metadata": {},
     "output_type": "execute_result"
    }
   ],
   "source": [
    "np.round(Adelie_bis['wkilo'].mean(), 1)"
   ]
  },
  {
   "cell_type": "code",
   "execution_count": 44,
   "id": "9d0804df-fcf8-4a08-aae7-2b59a712d07e",
   "metadata": {},
   "outputs": [
    {
     "data": {
      "text/plain": [
       "np.float64(3.7)"
      ]
     },
     "execution_count": 44,
     "metadata": {},
     "output_type": "execute_result"
    }
   ],
   "source": [
    "np.round(Adelie_dre['wkilo'].mean(), 1)"
   ]
  },
  {
   "cell_type": "code",
   "execution_count": 45,
   "id": "29633967-9eee-4eee-8291-ca90854b7a8e",
   "metadata": {},
   "outputs": [
    {
     "data": {
      "text/plain": [
       "np.float64(3.7)"
      ]
     },
     "execution_count": 45,
     "metadata": {},
     "output_type": "execute_result"
    }
   ],
   "source": [
    "np.round(Adelie_torg['wkilo'].mean(), 1)"
   ]
  },
  {
   "cell_type": "markdown",
   "id": "31f786c5-e511-4121-ac2d-b1c636e523a2",
   "metadata": {},
   "source": [
    "<h1>Insight no 4.</h1>\n",
    "<h2>No, Island does not affect the weight or body mass of species Adelie</h2>"
   ]
  },
  {
   "cell_type": "markdown",
   "id": "60abfac8-1f53-46c0-9cd0-340d15703e80",
   "metadata": {},
   "source": [
    "<h1>#5</h1>\n",
    "<h2>Gentoo</h2>"
   ]
  },
  {
   "cell_type": "code",
   "execution_count": 46,
   "id": "77a2f74e-6eb4-4d98-ac5c-367ac033d07b",
   "metadata": {},
   "outputs": [],
   "source": [
    "Gentoo_bis = ibon[(ibon['species'] == \"Gentoo\") & (ibon['island'] == 'Biscoe')]"
   ]
  },
  {
   "cell_type": "code",
   "execution_count": 47,
   "id": "765d7fe6-0857-46a5-882b-6a497f4a5199",
   "metadata": {},
   "outputs": [],
   "source": [
    "Gentoo_dre = ibon[(ibon['species'] == \"Gentoo\") & (ibon['island'] == 'dream')]"
   ]
  },
  {
   "cell_type": "code",
   "execution_count": 48,
   "id": "7a1ce900-b731-4dbd-9a4b-81bb65901316",
   "metadata": {},
   "outputs": [],
   "source": [
    "Gentoo_torg = ibon[(ibon['species'] == \"Gentoo\") & (ibon['island'] == 'Torgersen')]"
   ]
  },
  {
   "cell_type": "code",
   "execution_count": 49,
   "id": "c90f531e-1786-4f9b-bfeb-dfb32f8c169b",
   "metadata": {},
   "outputs": [
    {
     "data": {
      "text/plain": [
       "np.float64(5.1)"
      ]
     },
     "execution_count": 49,
     "metadata": {},
     "output_type": "execute_result"
    }
   ],
   "source": [
    "np.round(Gentoo_bis['wkilo'].mean(), 1)"
   ]
  },
  {
   "cell_type": "code",
   "execution_count": 50,
   "id": "b83682aa-6cd6-4b40-b384-effd1ffe3c84",
   "metadata": {},
   "outputs": [
    {
     "data": {
      "text/plain": [
       "np.float64(nan)"
      ]
     },
     "execution_count": 50,
     "metadata": {},
     "output_type": "execute_result"
    }
   ],
   "source": [
    "np.round(Gentoo_dre['wkilo'].mean(), 1)"
   ]
  },
  {
   "cell_type": "code",
   "execution_count": 51,
   "id": "68cbdde6-e941-451e-acf0-3825b2e883f0",
   "metadata": {},
   "outputs": [
    {
     "data": {
      "text/plain": [
       "np.float64(nan)"
      ]
     },
     "execution_count": 51,
     "metadata": {},
     "output_type": "execute_result"
    }
   ],
   "source": [
    "np.round(Gentoo_torg['wkilo'].mean(), 1)"
   ]
  },
  {
   "cell_type": "markdown",
   "id": "45e08a41-ed1d-4b01-98b0-baacf8964ab4",
   "metadata": {},
   "source": [
    "<h1>Insight no 5.</h1>\n",
    "<h2>No, Island does not affect the weight or body mass of species Gentoo</h2>"
   ]
  },
  {
   "cell_type": "markdown",
   "id": "44c064fb-f701-4cee-92d1-ba351eaccb1d",
   "metadata": {},
   "source": [
    "<h1>#6</h1>\n",
    "<h2>Gentoo</h2>"
   ]
  },
  {
   "cell_type": "code",
   "execution_count": 52,
   "id": "28ad1c17-2a5d-4475-a9f9-6ff18a07e89e",
   "metadata": {},
   "outputs": [],
   "source": [
    "Chinstrap_bis = ibon[(ibon['species'] == \"Chinstrap\") & (ibon['island'] == 'Biscoe')]"
   ]
  },
  {
   "cell_type": "code",
   "execution_count": 53,
   "id": "006389ae-690f-47b1-9004-6841dddf6242",
   "metadata": {},
   "outputs": [],
   "source": [
    "Chinstrap_dre = ibon[(ibon['species'] == \"Chinstrap\") & (ibon['island'] == 'Dream')]"
   ]
  },
  {
   "cell_type": "code",
   "execution_count": 54,
   "id": "555aabef-29d3-4a6b-9cda-f5959cb3a2d0",
   "metadata": {},
   "outputs": [],
   "source": [
    "Chinstrap_torg = ibon[(ibon['species'] == \"Chinstrap\") & (ibon['island'] == 'Torgersen')]"
   ]
  },
  {
   "cell_type": "code",
   "execution_count": 55,
   "id": "b13fff25-bbd7-4d87-8617-5a728386e16e",
   "metadata": {},
   "outputs": [
    {
     "data": {
      "text/plain": [
       "np.float64(nan)"
      ]
     },
     "execution_count": 55,
     "metadata": {},
     "output_type": "execute_result"
    }
   ],
   "source": [
    "np.round(Chinstrap_bis['wkilo'].mean(), 1)"
   ]
  },
  {
   "cell_type": "code",
   "execution_count": 56,
   "id": "ff524235-cec3-40d9-a952-829c245b2c45",
   "metadata": {},
   "outputs": [
    {
     "data": {
      "text/plain": [
       "np.float64(3.7)"
      ]
     },
     "execution_count": 56,
     "metadata": {},
     "output_type": "execute_result"
    }
   ],
   "source": [
    "np.round(Chinstrap_dre['wkilo'].mean(), 1)"
   ]
  },
  {
   "cell_type": "code",
   "execution_count": 57,
   "id": "0b159b23-a797-4bcc-b207-bce2140d5724",
   "metadata": {},
   "outputs": [
    {
     "data": {
      "text/plain": [
       "np.float64(nan)"
      ]
     },
     "execution_count": 57,
     "metadata": {},
     "output_type": "execute_result"
    }
   ],
   "source": [
    "np.round(Chinstrap_torg['wkilo'].mean(), 1)"
   ]
  },
  {
   "cell_type": "markdown",
   "id": "ea9bde83-615a-44bf-9fad-a38d5232c2c2",
   "metadata": {},
   "source": [
    "<h1>Insight no 6.</h1>\n",
    "<h2>No, Island does not affect the weight or body mass of species Chinstrap</h2>"
   ]
  },
  {
   "cell_type": "markdown",
   "id": "bbaa7ea0-6bfd-4259-86f7-f49d8f7763b5",
   "metadata": {},
   "source": [
    "<h1>#7</h1>\n",
    "<h2>Heaviest Species</h2>"
   ]
  },
  {
   "cell_type": "code",
   "execution_count": 58,
   "id": "7af0c0c9-2092-4d52-a4cd-7c07a1ee2d2c",
   "metadata": {},
   "outputs": [
    {
     "data": {
      "text/plain": [
       "np.float64(3.7)"
      ]
     },
     "execution_count": 58,
     "metadata": {},
     "output_type": "execute_result"
    }
   ],
   "source": [
    "np.round(Adelie_bis['wkilo'].mean(), 1)"
   ]
  },
  {
   "cell_type": "code",
   "execution_count": 59,
   "id": "6c050b40-64b0-4e1e-841e-5b3174f3d9c5",
   "metadata": {},
   "outputs": [
    {
     "data": {
      "text/plain": [
       "np.float64(5.1)"
      ]
     },
     "execution_count": 59,
     "metadata": {},
     "output_type": "execute_result"
    }
   ],
   "source": [
    "np.round(Gentoo_bis['wkilo'].mean(), 1)"
   ]
  },
  {
   "cell_type": "code",
   "execution_count": 60,
   "id": "cdbc4705-57dc-43ff-b821-402c6adda252",
   "metadata": {},
   "outputs": [
    {
     "data": {
      "text/plain": [
       "np.float64(nan)"
      ]
     },
     "execution_count": 60,
     "metadata": {},
     "output_type": "execute_result"
    }
   ],
   "source": [
    "np.round(Chinstrap_bis['wkilo'].mean(), 1)"
   ]
  },
  {
   "cell_type": "markdown",
   "id": "1079ca7d-efbd-4a28-898c-155c09261573",
   "metadata": {},
   "source": [
    "<h1> Aggregate </h1>"
   ]
  },
  {
   "cell_type": "code",
   "execution_count": 61,
   "id": "82be595b-c0cb-439b-9603-b4452eee47f0",
   "metadata": {},
   "outputs": [
    {
     "name": "stderr",
     "output_type": "stream",
     "text": [
      "C:\\Users\\LAB4-StudentPC02\\AppData\\Local\\Temp\\ipykernel_12008\\2388379734.py:1: FutureWarning: The default of observed=False is deprecated and will be changed to True in a future version of pandas. Pass observed=False to retain current behavior or observed=True to adopt the future default and silence this warning.\n",
      "  ibon_agg = ibon.groupby([\"species\", \"year\", \"sex\"]).size()\n"
     ]
    }
   ],
   "source": [
    "ibon_agg = ibon.groupby([\"species\", \"year\", \"sex\"]).size()"
   ]
  },
  {
   "cell_type": "code",
   "execution_count": 62,
   "id": "7e94227f-4701-4662-8b0c-1e6b73b85259",
   "metadata": {},
   "outputs": [
    {
     "data": {
      "text/plain": [
       "species    year  sex   \n",
       "Adelie     2007  female    22\n",
       "                 male      28\n",
       "           2008  female    25\n",
       "                 male      25\n",
       "           2009  female    26\n",
       "                 male      26\n",
       "Chinstrap  2007  female    13\n",
       "                 male      13\n",
       "           2008  female     9\n",
       "                 male       9\n",
       "           2009  female    12\n",
       "                 male      12\n",
       "Gentoo     2007  female    16\n",
       "                 male      18\n",
       "           2008  female    22\n",
       "                 male      24\n",
       "           2009  female    20\n",
       "                 male      24\n",
       "dtype: int64"
      ]
     },
     "execution_count": 62,
     "metadata": {},
     "output_type": "execute_result"
    }
   ],
   "source": [
    "ibon_agg"
   ]
  },
  {
   "cell_type": "markdown",
   "id": "e17823ce-1117-445b-99f4-fd8b3deb7c1c",
   "metadata": {},
   "source": [
    "<h1>Insight 8</h1>"
   ]
  },
  {
   "cell_type": "markdown",
   "id": "e7cfbbcc-2751-486d-a34e-6b1fe62b111b",
   "metadata": {},
   "source": [
    "<h2>What year has the most recorded data for male adelie</h2>"
   ]
  },
  {
   "cell_type": "code",
   "execution_count": 63,
   "id": "bd6a8466-4580-45de-9bb8-7057ad80a1fc",
   "metadata": {},
   "outputs": [
    {
     "name": "stderr",
     "output_type": "stream",
     "text": [
      "C:\\Users\\LAB4-StudentPC02\\AppData\\Local\\Temp\\ipykernel_12008\\2608611967.py:1: FutureWarning: The default of observed=False is deprecated and will be changed to True in a future version of pandas. Pass observed=False to retain current behavior or observed=True to adopt the future default and silence this warning.\n",
      "  ade_male = ibon.groupby([\"species\", \"island\", \"sex\"]).size()\n"
     ]
    }
   ],
   "source": [
    "ade_male = ibon.groupby([\"species\", \"island\", \"sex\"]).size()"
   ]
  },
  {
   "cell_type": "code",
   "execution_count": 64,
   "id": "c899d0f2-008e-4ce5-8312-bcf29373edfb",
   "metadata": {},
   "outputs": [
    {
     "data": {
      "text/plain": [
       "species    year  sex   \n",
       "Adelie     2007  female    22\n",
       "                 male      28\n",
       "           2008  female    25\n",
       "                 male      25\n",
       "           2009  female    26\n",
       "                 male      26\n",
       "Chinstrap  2007  female    13\n",
       "                 male      13\n",
       "           2008  female     9\n",
       "                 male       9\n",
       "           2009  female    12\n",
       "                 male      12\n",
       "Gentoo     2007  female    16\n",
       "                 male      18\n",
       "           2008  female    22\n",
       "                 male      24\n",
       "           2009  female    20\n",
       "                 male      24\n",
       "dtype: int64"
      ]
     },
     "execution_count": 64,
     "metadata": {},
     "output_type": "execute_result"
    }
   ],
   "source": [
    "ibon_agg"
   ]
  },
  {
   "cell_type": "markdown",
   "id": "4adcdacc-a4ce-4269-9459-0c3ad9f67f30",
   "metadata": {},
   "source": [
    "<h1> 2007 has the most redorded data in adelie </h1>"
   ]
  },
  {
   "cell_type": "markdown",
   "id": "e5f40a7c-a2bb-4af6-b15e-20216af61874",
   "metadata": {},
   "source": [
    "<h1> How to use .Groupby Function </h1>"
   ]
  },
  {
   "cell_type": "code",
   "execution_count": null,
   "id": "0cf3668a-328e-4c5b-a483-b1b804d30726",
   "metadata": {},
   "outputs": [],
   "source": []
  },
  {
   "cell_type": "markdown",
   "id": "a4ecedd0-7144-48bd-9134-32ff22010caf",
   "metadata": {},
   "source": [
    "<h1> Insight 9 </h1>"
   ]
  },
  {
   "cell_type": "markdown",
   "id": "a57ff221-80d1-42f3-854f-b37efcbde535",
   "metadata": {},
   "source": [
    "<h1> Who's the most heavy ibon species in terms of SEX </h1>"
   ]
  },
  {
   "cell_type": "code",
   "execution_count": 65,
   "id": "7e0d8355-f708-4271-af6e-1426589a852d",
   "metadata": {},
   "outputs": [
    {
     "name": "stderr",
     "output_type": "stream",
     "text": [
      "C:\\Users\\LAB4-StudentPC02\\AppData\\Local\\Temp\\ipykernel_12008\\2293507051.py:1: FutureWarning: The default of observed=False is deprecated and will be changed to True in a future version of pandas. Pass observed=False to retain current behavior or observed=True to adopt the future default and silence this warning.\n",
      "  weight_sex = np.round(ibon.groupby(['species','sex'])['wkilo'].mean(), 1)\n"
     ]
    }
   ],
   "source": [
    "weight_sex = np.round(ibon.groupby(['species','sex'])['wkilo'].mean(), 1)"
   ]
  },
  {
   "cell_type": "code",
   "execution_count": 66,
   "id": "9de64efc-817e-4c8b-9734-4b7695988c23",
   "metadata": {},
   "outputs": [
    {
     "data": {
      "text/plain": [
       "species    sex   \n",
       "Adelie     female    3.4\n",
       "           male      4.0\n",
       "Chinstrap  female    3.5\n",
       "           male      3.9\n",
       "Gentoo     female    4.7\n",
       "           male      5.4\n",
       "Name: wkilo, dtype: float64"
      ]
     },
     "execution_count": 66,
     "metadata": {},
     "output_type": "execute_result"
    }
   ],
   "source": [
    "weight_sex"
   ]
  },
  {
   "cell_type": "code",
   "execution_count": 67,
   "id": "d148ce71-9274-4602-a747-3e2f3c08afff",
   "metadata": {},
   "outputs": [
    {
     "data": {
      "text/html": [
       "<div>\n",
       "<style scoped>\n",
       "    .dataframe tbody tr th:only-of-type {\n",
       "        vertical-align: middle;\n",
       "    }\n",
       "\n",
       "    .dataframe tbody tr th {\n",
       "        vertical-align: top;\n",
       "    }\n",
       "\n",
       "    .dataframe thead th {\n",
       "        text-align: right;\n",
       "    }\n",
       "</style>\n",
       "<table border=\"1\" class=\"dataframe\">\n",
       "  <thead>\n",
       "    <tr style=\"text-align: right;\">\n",
       "      <th>sex</th>\n",
       "      <th>female</th>\n",
       "      <th>male</th>\n",
       "    </tr>\n",
       "    <tr>\n",
       "      <th>species</th>\n",
       "      <th></th>\n",
       "      <th></th>\n",
       "    </tr>\n",
       "  </thead>\n",
       "  <tbody>\n",
       "    <tr>\n",
       "      <th>Adelie</th>\n",
       "      <td>3.4</td>\n",
       "      <td>4.0</td>\n",
       "    </tr>\n",
       "    <tr>\n",
       "      <th>Chinstrap</th>\n",
       "      <td>3.5</td>\n",
       "      <td>3.9</td>\n",
       "    </tr>\n",
       "    <tr>\n",
       "      <th>Gentoo</th>\n",
       "      <td>4.7</td>\n",
       "      <td>5.4</td>\n",
       "    </tr>\n",
       "  </tbody>\n",
       "</table>\n",
       "</div>"
      ],
      "text/plain": [
       "sex        female  male\n",
       "species                \n",
       "Adelie        3.4   4.0\n",
       "Chinstrap     3.5   3.9\n",
       "Gentoo        4.7   5.4"
      ]
     },
     "execution_count": 67,
     "metadata": {},
     "output_type": "execute_result"
    }
   ],
   "source": [
    "weight_sex.unstack()"
   ]
  },
  {
   "cell_type": "markdown",
   "id": "57a51f73-69f0-47f6-ab74-b5afdb3077b1",
   "metadata": {},
   "source": [
    "<h1> insight 10 </h1>"
   ]
  },
  {
   "cell_type": "markdown",
   "id": "30295286-33ae-4f59-afb1-68f09a2e59b0",
   "metadata": {},
   "source": [
    "<h1> What year has the highest recorded weight in both male and female </h1>"
   ]
  },
  {
   "cell_type": "code",
   "execution_count": 68,
   "id": "7d1dad9d-35f9-41f5-a8a0-b010fda237d7",
   "metadata": {},
   "outputs": [
    {
     "name": "stderr",
     "output_type": "stream",
     "text": [
      "C:\\Users\\LAB4-StudentPC02\\AppData\\Local\\Temp\\ipykernel_12008\\3078400527.py:1: FutureWarning: The default of observed=False is deprecated and will be changed to True in a future version of pandas. Pass observed=False to retain current behavior or observed=True to adopt the future default and silence this warning.\n",
      "  weight_sex = np.round(ibon.groupby(['species','year','sex'])['wkilo'].mean(), 1)\n"
     ]
    }
   ],
   "source": [
    "weight_sex = np.round(ibon.groupby(['species','year','sex'])\n",
    "                      ['wkilo'].mean(), 1)"
   ]
  },
  {
   "cell_type": "code",
   "execution_count": 69,
   "id": "380c8704-f652-4819-b23a-17dca7eaab61",
   "metadata": {},
   "outputs": [
    {
     "data": {
      "text/plain": [
       "species    year  sex   \n",
       "Adelie     2007  female    3.4\n",
       "                 male      4.0\n",
       "           2008  female    3.4\n",
       "                 male      4.1\n",
       "           2009  female    3.3\n",
       "                 male      4.0\n",
       "Chinstrap  2007  female    3.6\n",
       "                 male      3.8\n",
       "           2008  female    3.5\n",
       "                 male      4.1\n",
       "           2009  female    3.5\n",
       "                 male      3.9\n",
       "Gentoo     2007  female    4.6\n",
       "                 male      5.5\n",
       "           2008  female    4.6\n",
       "                 male      5.4\n",
       "           2009  female    4.8\n",
       "                 male      5.4\n",
       "Name: wkilo, dtype: float64"
      ]
     },
     "execution_count": 69,
     "metadata": {},
     "output_type": "execute_result"
    }
   ],
   "source": [
    "weight_sex"
   ]
  },
  {
   "cell_type": "code",
   "execution_count": 70,
   "id": "79acb8f0-b76a-4a7e-b9c9-8a47a7bea945",
   "metadata": {},
   "outputs": [
    {
     "data": {
      "text/html": [
       "<div>\n",
       "<style scoped>\n",
       "    .dataframe tbody tr th:only-of-type {\n",
       "        vertical-align: middle;\n",
       "    }\n",
       "\n",
       "    .dataframe tbody tr th {\n",
       "        vertical-align: top;\n",
       "    }\n",
       "\n",
       "    .dataframe thead th {\n",
       "        text-align: right;\n",
       "    }\n",
       "</style>\n",
       "<table border=\"1\" class=\"dataframe\">\n",
       "  <thead>\n",
       "    <tr style=\"text-align: right;\">\n",
       "      <th></th>\n",
       "      <th>sex</th>\n",
       "      <th>female</th>\n",
       "      <th>male</th>\n",
       "    </tr>\n",
       "    <tr>\n",
       "      <th>species</th>\n",
       "      <th>year</th>\n",
       "      <th></th>\n",
       "      <th></th>\n",
       "    </tr>\n",
       "  </thead>\n",
       "  <tbody>\n",
       "    <tr>\n",
       "      <th rowspan=\"3\" valign=\"top\">Adelie</th>\n",
       "      <th>2007</th>\n",
       "      <td>3.4</td>\n",
       "      <td>4.0</td>\n",
       "    </tr>\n",
       "    <tr>\n",
       "      <th>2008</th>\n",
       "      <td>3.4</td>\n",
       "      <td>4.1</td>\n",
       "    </tr>\n",
       "    <tr>\n",
       "      <th>2009</th>\n",
       "      <td>3.3</td>\n",
       "      <td>4.0</td>\n",
       "    </tr>\n",
       "    <tr>\n",
       "      <th rowspan=\"3\" valign=\"top\">Chinstrap</th>\n",
       "      <th>2007</th>\n",
       "      <td>3.6</td>\n",
       "      <td>3.8</td>\n",
       "    </tr>\n",
       "    <tr>\n",
       "      <th>2008</th>\n",
       "      <td>3.5</td>\n",
       "      <td>4.1</td>\n",
       "    </tr>\n",
       "    <tr>\n",
       "      <th>2009</th>\n",
       "      <td>3.5</td>\n",
       "      <td>3.9</td>\n",
       "    </tr>\n",
       "    <tr>\n",
       "      <th rowspan=\"3\" valign=\"top\">Gentoo</th>\n",
       "      <th>2007</th>\n",
       "      <td>4.6</td>\n",
       "      <td>5.5</td>\n",
       "    </tr>\n",
       "    <tr>\n",
       "      <th>2008</th>\n",
       "      <td>4.6</td>\n",
       "      <td>5.4</td>\n",
       "    </tr>\n",
       "    <tr>\n",
       "      <th>2009</th>\n",
       "      <td>4.8</td>\n",
       "      <td>5.4</td>\n",
       "    </tr>\n",
       "  </tbody>\n",
       "</table>\n",
       "</div>"
      ],
      "text/plain": [
       "sex             female  male\n",
       "species   year              \n",
       "Adelie    2007     3.4   4.0\n",
       "          2008     3.4   4.1\n",
       "          2009     3.3   4.0\n",
       "Chinstrap 2007     3.6   3.8\n",
       "          2008     3.5   4.1\n",
       "          2009     3.5   3.9\n",
       "Gentoo    2007     4.6   5.5\n",
       "          2008     4.6   5.4\n",
       "          2009     4.8   5.4"
      ]
     },
     "execution_count": 70,
     "metadata": {},
     "output_type": "execute_result"
    }
   ],
   "source": [
    "weight_sex.unstack()"
   ]
  },
  {
   "cell_type": "markdown",
   "id": "e3883676-da62-45e1-8b7b-c8164951157b",
   "metadata": {},
   "source": [
    "<h1> Correlation and Causation </h1>"
   ]
  },
  {
   "cell_type": "markdown",
   "id": "34b1875d-5689-48b0-a36e-349031867d30",
   "metadata": {},
   "source": [
    "<h1> Insight 11 </h1>\n",
    "<h2> Correlation between length and bill depth</h2>"
   ]
  },
  {
   "cell_type": "markdown",
   "id": "f5526f72-5e62-47c5-89f4-4a691063fbbc",
   "metadata": {},
   "source": [
    "<h2> Anything above .5 means the two values has a strong correlation</h2>\n",
    "<h2> Anything below .5 meaning less or no correlation</h2>"
   ]
  },
  {
   "cell_type": "markdown",
   "id": "be092e4b-0cdc-4b08-b426-7b7fb0fbc33e",
   "metadata": {},
   "source": [
    "<h2> Requirements for correlation</h2>\n",
    "<ul>\n",
    "    <li>Naming the variable</li>\n",
    "    <li>First column to test</li>\n",
    "    <li>.corr function</li>\n",
    "    <li>second column to test</li>\n",
    "</ul>"
   ]
  },
  {
   "cell_type": "markdown",
   "id": "77feead8-46cd-4e25-aa93-32e692cb4e71",
   "metadata": {},
   "source": [
    "<h2>Statistical Treatment</h2>\n",
    "<h2>Pandas Default - pearson R Correlation</h2>\n",
    "<h2>used for measuring correlation between quantitative data</h2>"
   ]
  },
  {
   "cell_type": "code",
   "execution_count": 76,
   "id": "628eefb9-eb86-491d-bf3b-7ce0081dd1c8",
   "metadata": {},
   "outputs": [],
   "source": [
    "b_length_depth = ibon['bill_length_mm'].corr(ibon['bill_depth_mm'])"
   ]
  },
  {
   "cell_type": "code",
   "execution_count": 77,
   "id": "4e2a773f-a8cd-4e93-9bf6-d3ee26530c31",
   "metadata": {},
   "outputs": [
    {
     "data": {
      "text/plain": [
       "np.float64(-0.23505287035553282)"
      ]
     },
     "execution_count": 77,
     "metadata": {},
     "output_type": "execute_result"
    }
   ],
   "source": [
    "b_length_depth"
   ]
  },
  {
   "cell_type": "markdown",
   "id": "99ec6bca-ca30-424c-9bbe-594423e88a7d",
   "metadata": {},
   "source": [
    "<h2>There are no correlation between bill length to bill depth</h2>\n"
   ]
  },
  {
   "cell_type": "markdown",
   "id": "d6665fb4-af12-4efb-9fb3-9a777af415b8",
   "metadata": {},
   "source": [
    "<h1>Insight 12</h1>"
   ]
  },
  {
   "cell_type": "markdown",
   "id": "be0f68d3-3fbe-4018-bc41-7af2f3a98569",
   "metadata": {},
   "source": [
    "<h2>correlation between bill depth to body mass</h2>\n"
   ]
  },
  {
   "cell_type": "code",
   "execution_count": 78,
   "id": "091498d6-165f-4363-abbb-98410b3c7da9",
   "metadata": {},
   "outputs": [],
   "source": [
    "depth_mass =ibon['bill_depth_mm'].corr(ibon['wkilo'])"
   ]
  },
  {
   "cell_type": "code",
   "execution_count": 79,
   "id": "62a6aa35-3e79-4681-a2ed-f5fccffe5c95",
   "metadata": {},
   "outputs": [
    {
     "data": {
      "text/plain": [
       "np.float64(-0.47071762025380404)"
      ]
     },
     "execution_count": 79,
     "metadata": {},
     "output_type": "execute_result"
    }
   ],
   "source": [
    "depth_mass"
   ]
  },
  {
   "cell_type": "markdown",
   "id": "a833a44d-3e11-4528-a1be-682bf3e466ce",
   "metadata": {},
   "source": [
    "<h2>There are no correlation between bill length to bill depth</h2>\n"
   ]
  },
  {
   "cell_type": "markdown",
   "id": "224ae9cd-9d75-4d72-ad0d-16ca79d800ef",
   "metadata": {},
   "source": [
    "<h1>Insight 13</h1>\n",
    "<h2>correlation between flipper depth to body mass</h2>"
   ]
  },
  {
   "cell_type": "code",
   "execution_count": 80,
   "id": "bf9382a3-6ffb-43e5-be0c-dcc0e6ac3671",
   "metadata": {},
   "outputs": [],
   "source": [
    "flipper_mass = np.round(ibon['flipper_length_mm'].corr(ibon['wkilo']), 1)"
   ]
  },
  {
   "cell_type": "code",
   "execution_count": 82,
   "id": "9c603f57-04e0-4d71-966b-baadae599327",
   "metadata": {},
   "outputs": [
    {
     "data": {
      "text/plain": [
       "np.float64(0.9)"
      ]
     },
     "execution_count": 82,
     "metadata": {},
     "output_type": "execute_result"
    }
   ],
   "source": [
    "flipper_mass"
   ]
  },
  {
   "cell_type": "markdown",
   "id": "53a386ea-0ca7-472c-9782-8f0bf49babda",
   "metadata": {},
   "source": [
    "<h1>Insight 14</h1>\n",
    "<h2>correlation between flipper length and bill length</h2>"
   ]
  },
  {
   "cell_type": "code",
   "execution_count": 92,
   "id": "b35f83c4-3c57-43e7-b82a-e1150cc0e18f",
   "metadata": {},
   "outputs": [],
   "source": [
    "flipper_length = np.round(ibon['flipper_length_mm'].corr(ibon['bill_length_mm']), 1)"
   ]
  },
  {
   "cell_type": "code",
   "execution_count": 91,
   "id": "ce7c16d3-b1e5-4af1-a8ea-e532563787ca",
   "metadata": {},
   "outputs": [
    {
     "data": {
      "text/plain": [
       "np.float64(0.7)"
      ]
     },
     "execution_count": 91,
     "metadata": {},
     "output_type": "execute_result"
    }
   ],
   "source": [
    "flipper_length"
   ]
  },
  {
   "cell_type": "markdown",
   "id": "96b3cea5-b7b5-4860-9768-e33e4513ba38",
   "metadata": {},
   "source": [
    "<h1>Insight 15</h1>\n",
    "<h2>correlation between flipper length and bill depth</h2>"
   ]
  },
  {
   "cell_type": "code",
   "execution_count": 93,
   "id": "6e0613af-aa66-4ec9-98fa-f71827040eb8",
   "metadata": {},
   "outputs": [],
   "source": [
    "flipper_length = np.round(ibon['flipper_length_mm'].corr(ibon['bill_depth_mm']), 1)"
   ]
  },
  {
   "cell_type": "code",
   "execution_count": 94,
   "id": "8a346c74-2bd4-496b-9cbf-a34d627f59b0",
   "metadata": {},
   "outputs": [
    {
     "data": {
      "text/plain": [
       "np.float64(-0.6)"
      ]
     },
     "execution_count": 94,
     "metadata": {},
     "output_type": "execute_result"
    }
   ],
   "source": [
    "flipper_length"
   ]
  },
  {
   "cell_type": "code",
   "execution_count": 83,
   "id": "3a7aa875-d6f4-4197-91da-bb7b216c99bb",
   "metadata": {},
   "outputs": [],
   "source": [
    "from scipy.stats import f_oneway"
   ]
  },
  {
   "cell_type": "code",
   "execution_count": 86,
   "id": "eada225d-4775-4902-833b-1e721f68020f",
   "metadata": {},
   "outputs": [
    {
     "data": {
      "text/plain": [
       "0      3750.000000\n",
       "3      4201.754386\n",
       "5      3650.000000\n",
       "7      4675.000000\n",
       "8      3475.000000\n",
       "          ...     \n",
       "334    3800.000000\n",
       "336    3950.000000\n",
       "339    4000.000000\n",
       "341    3775.000000\n",
       "342    4100.000000\n",
       "Name: body_mass_g, Length: 179, dtype: float64"
      ]
     },
     "execution_count": 86,
     "metadata": {},
     "output_type": "execute_result"
    }
   ],
   "source": [
    "ibon[ibon['sex'] == 'male']['body_mass_g']"
   ]
  },
  {
   "cell_type": "markdown",
   "id": "7a00b80c-65e0-4e4a-89ec-123e43af6018",
   "metadata": {},
   "source": [
    "<h1>Insight 16</h1>\n",
    "<h2>flipper c sex</h2>"
   ]
  },
  {
   "cell_type": "code",
   "execution_count": 87,
   "id": "2f55e632-3ca1-4a6c-8985-c658aeed4348",
   "metadata": {},
   "outputs": [
    {
     "data": {
      "text/plain": [
       "np.float64(3.0226600487050246e-15)"
      ]
     },
     "execution_count": 87,
     "metadata": {},
     "output_type": "execute_result"
    }
   ],
   "source": [
    "f_stats, p_value = f_oneway(ibon[ibon['sex'] == 'male']['body_mass_g'],\n",
    "                            ibon[ibon['sex'] == 'female']['body_mass_g'])\n",
    "p_value"
   ]
  },
  {
   "cell_type": "code",
   "execution_count": null,
   "id": "a380d02f-0465-44b1-a680-c462490bb537",
   "metadata": {},
   "outputs": [],
   "source": []
  }
 ],
 "metadata": {
  "kernelspec": {
   "display_name": "Python 3 (ipykernel)",
   "language": "python",
   "name": "python3"
  },
  "language_info": {
   "codemirror_mode": {
    "name": "ipython",
    "version": 3
   },
   "file_extension": ".py",
   "mimetype": "text/x-python",
   "name": "python",
   "nbconvert_exporter": "python",
   "pygments_lexer": "ipython3",
   "version": "3.13.2"
  }
 },
 "nbformat": 4,
 "nbformat_minor": 5
}
