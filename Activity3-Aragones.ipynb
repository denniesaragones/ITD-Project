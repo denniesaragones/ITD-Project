{
 "cells": [
  {
   "cell_type": "code",
   "execution_count": 43,
   "id": "a36a6e8d-c5b9-411f-8f2a-985ecb949769",
   "metadata": {},
   "outputs": [],
   "source": [
    "import numpy as np\n",
    "import pandas as pd\n",
    "import seaborn as sns\n",
    "import matplotlib.pyplot as plt\n",
    "from scipy.stats import f_oneway\n",
    "import warnings\n",
    "warnings.filterwarnings('ignore')"
   ]
  },
  {
   "cell_type": "code",
   "execution_count": 44,
   "id": "477a297c-3000-4287-a8e1-478c76890d85",
   "metadata": {},
   "outputs": [],
   "source": [
    "ac = pd.read_csv('datasets\\\\accident_data.csv')"
   ]
  },
  {
   "cell_type": "code",
   "execution_count": 45,
   "id": "a6ce1928-9714-46b4-b8cd-7964c9c69cfc",
   "metadata": {},
   "outputs": [
    {
     "name": "stdout",
     "output_type": "stream",
     "text": [
      "<class 'pandas.core.frame.DataFrame'>\n",
      "RangeIndex: 660679 entries, 0 to 660678\n",
      "Data columns (total 14 columns):\n",
      " #   Column                   Non-Null Count   Dtype  \n",
      "---  ------                   --------------   -----  \n",
      " 0   Index                    660679 non-null  object \n",
      " 1   Accident_Severity        660679 non-null  object \n",
      " 2   Accident Date            660679 non-null  object \n",
      " 3   Latitude                 660654 non-null  float64\n",
      " 4   Light_Conditions         660679 non-null  object \n",
      " 5   District Area            660679 non-null  object \n",
      " 6   Longitude                660653 non-null  float64\n",
      " 7   Number_of_Casualties     660679 non-null  int64  \n",
      " 8   Number_of_Vehicles       660679 non-null  int64  \n",
      " 9   Road_Surface_Conditions  659953 non-null  object \n",
      " 10  Road_Type                656159 non-null  object \n",
      " 11  Urban_or_Rural_Area      660664 non-null  object \n",
      " 12  Weather_Conditions       646551 non-null  object \n",
      " 13  Vehicle_Type             660679 non-null  object \n",
      "dtypes: float64(2), int64(2), object(10)\n",
      "memory usage: 70.6+ MB\n"
     ]
    }
   ],
   "source": [
    "ac.info()"
   ]
  },
  {
   "cell_type": "code",
   "execution_count": 84,
   "id": "703a453c-19b9-4908-92e3-b99071578610",
   "metadata": {},
   "outputs": [
    {
     "data": {
      "text/plain": [
       "Index                           0\n",
       "Accident_Severity               0\n",
       "Accident Date              395672\n",
       "Latitude                        0\n",
       "Light_Conditions                0\n",
       "District Area                   0\n",
       "Longitude                       0\n",
       "Number_of_Casualties            0\n",
       "Number_of_Vehicles              0\n",
       "Road_Surface_Conditions       726\n",
       "Road_Type                    4520\n",
       "Urban_or_Rural_Area             0\n",
       "Weather_Conditions              0\n",
       "Vehicle_Type                    0\n",
       "Year                       395672\n",
       "Month                      395672\n",
       "dtype: int64"
      ]
     },
     "execution_count": 84,
     "metadata": {},
     "output_type": "execute_result"
    }
   ],
   "source": [
    "ac.isnull().sum()"
   ]
  },
  {
   "cell_type": "code",
   "execution_count": 47,
   "id": "fea5d261-fdae-4f70-93fa-28908f8ef4a5",
   "metadata": {},
   "outputs": [],
   "source": [
    "ac['District Area'] = ac['District Area'].fillna(ac['District Area'].mode()[0])"
   ]
  },
  {
   "cell_type": "code",
   "execution_count": 48,
   "id": "a3abab1c-1f5b-43df-adb7-b380ee5b2f8b",
   "metadata": {},
   "outputs": [],
   "source": [
    "ac['Longitude'] = ac['Longitude'].fillna(ac['Longitude'].mode()[0])"
   ]
  },
  {
   "cell_type": "code",
   "execution_count": 49,
   "id": "2ff2e7ef-9b03-44b9-ab64-b503ba9f19ad",
   "metadata": {},
   "outputs": [],
   "source": [
    "ac['Urban_or_Rural_Area'] = ac['Urban_or_Rural_Area'].fillna(ac['Urban_or_Rural_Area'].mode()[0])"
   ]
  },
  {
   "cell_type": "code",
   "execution_count": 50,
   "id": "28266a38-18b3-4583-a63c-0c3605da963c",
   "metadata": {},
   "outputs": [],
   "source": [
    "ac['Latitude'] = ac['Latitude'].fillna(ac['Latitude'].mode()[0])"
   ]
  },
  {
   "cell_type": "code",
   "execution_count": 51,
   "id": "a4ba7134-517e-455a-b249-13e329c589a2",
   "metadata": {},
   "outputs": [],
   "source": [
    "ac['Weather_Conditions'] = ac['Weather_Conditions'].fillna('unaccounted')"
   ]
  },
  {
   "cell_type": "code",
   "execution_count": 52,
   "id": "d1aaaf3d-509a-40c8-b170-b2495bf26b00",
   "metadata": {},
   "outputs": [
    {
     "data": {
      "text/plain": [
       "Index                       object\n",
       "Accident_Severity           object\n",
       "Accident Date               object\n",
       "Latitude                   float64\n",
       "Light_Conditions            object\n",
       "District Area               object\n",
       "Longitude                  float64\n",
       "Number_of_Casualties         int64\n",
       "Number_of_Vehicles           int64\n",
       "Road_Surface_Conditions     object\n",
       "Road_Type                   object\n",
       "Urban_or_Rural_Area         object\n",
       "Weather_Conditions          object\n",
       "Vehicle_Type                object\n",
       "dtype: object"
      ]
     },
     "execution_count": 52,
     "metadata": {},
     "output_type": "execute_result"
    }
   ],
   "source": [
    "ac.dtypes"
   ]
  },
  {
   "cell_type": "code",
   "execution_count": 53,
   "id": "c98096ff-6af8-47f9-bb99-9a667a5a52c0",
   "metadata": {},
   "outputs": [],
   "source": [
    "ac['Accident_Severity'] = ac['Accident_Severity'].astype('category')"
   ]
  },
  {
   "cell_type": "code",
   "execution_count": 54,
   "id": "b757838d-7a33-42aa-baee-f1119b8ceb32",
   "metadata": {},
   "outputs": [],
   "source": [
    "ac['Accident Date'] = pd.to_datetime(ac['Accident Date'], dayfirst = True, errors = 'coerce')"
   ]
  },
  {
   "cell_type": "code",
   "execution_count": 55,
   "id": "8fd2fa6c-6625-4875-a63c-25d47389974d",
   "metadata": {},
   "outputs": [
    {
     "data": {
      "text/plain": [
       "Index                              object\n",
       "Accident_Severity                category\n",
       "Accident Date              datetime64[ns]\n",
       "Latitude                          float64\n",
       "Light_Conditions                   object\n",
       "District Area                      object\n",
       "Longitude                         float64\n",
       "Number_of_Casualties                int64\n",
       "Number_of_Vehicles                  int64\n",
       "Road_Surface_Conditions            object\n",
       "Road_Type                          object\n",
       "Urban_or_Rural_Area                object\n",
       "Weather_Conditions                 object\n",
       "Vehicle_Type                       object\n",
       "dtype: object"
      ]
     },
     "execution_count": 55,
     "metadata": {},
     "output_type": "execute_result"
    }
   ],
   "source": [
    "ac.dtypes"
   ]
  },
  {
   "cell_type": "code",
   "execution_count": 56,
   "id": "e8c2b04f-35ae-4bb0-8f68-103ecd8958f1",
   "metadata": {},
   "outputs": [
    {
     "data": {
      "text/plain": [
       "Number_of_Casualties\n",
       "1     504041\n",
       "2     107971\n",
       "3      30776\n",
       "4      11156\n",
       "5       4123\n",
       "6       1525\n",
       "7        539\n",
       "8        214\n",
       "9        112\n",
       "10        58\n",
       "11        36\n",
       "13        24\n",
       "12        21\n",
       "14        13\n",
       "15        11\n",
       "17         8\n",
       "19         7\n",
       "16         7\n",
       "18         6\n",
       "22         5\n",
       "21         4\n",
       "29         3\n",
       "40         2\n",
       "28         2\n",
       "24         2\n",
       "27         2\n",
       "42         2\n",
       "25         1\n",
       "32         1\n",
       "68         1\n",
       "45         1\n",
       "62         1\n",
       "47         1\n",
       "48         1\n",
       "26         1\n",
       "43         1\n",
       "Name: count, dtype: int64"
      ]
     },
     "execution_count": 56,
     "metadata": {},
     "output_type": "execute_result"
    }
   ],
   "source": [
    "ac['Number_of_Casualties'].value_counts()"
   ]
  },
  {
   "cell_type": "code",
   "execution_count": 57,
   "id": "49d7267a-0187-4429-bc52-994dbda5dbbb",
   "metadata": {},
   "outputs": [],
   "source": [
    "ac['Accident Date'] = pd.to_datetime(ac['Accident Date'], errors='coerce')"
   ]
  },
  {
   "cell_type": "code",
   "execution_count": 58,
   "id": "3217a9d2-852d-4789-af5a-1477dab0ef37",
   "metadata": {},
   "outputs": [],
   "source": [
    "ac['Year'] = ac['Accident Date'].dt.year"
   ]
  },
  {
   "cell_type": "code",
   "execution_count": 59,
   "id": "4b82246d-1f41-4084-b35a-6f3fb0b3ae17",
   "metadata": {},
   "outputs": [],
   "source": [
    "ac['Accident Date'] = pd.to_datetime(ac['Accident Date'], errors='coerce')"
   ]
  },
  {
   "cell_type": "code",
   "execution_count": 60,
   "id": "a095e2ff-d100-405d-9c49-981570524956",
   "metadata": {},
   "outputs": [],
   "source": [
    "ac['Month'] = ac['Accident Date'].dt.month"
   ]
  },
  {
   "cell_type": "markdown",
   "id": "a5692f72-1552-4ed1-a26d-4f990e2b8bb7",
   "metadata": {},
   "source": [
    "<h1>Insight 1</h1>\n",
    "<h2> Total accidents by severity </h2>"
   ]
  },
  {
   "cell_type": "code",
   "execution_count": 61,
   "id": "fb4c70f9-4486-40ab-9b66-8e20f171f759",
   "metadata": {},
   "outputs": [],
   "source": [
    "accidents_by_severity = ac.groupby('Accident_Severity').size()"
   ]
  },
  {
   "cell_type": "code",
   "execution_count": 62,
   "id": "c8216cea-5222-48ac-923a-8e8817b295f9",
   "metadata": {},
   "outputs": [
    {
     "data": {
      "text/plain": [
       "Accident_Severity\n",
       "Fatal        8661\n",
       "Serious     88217\n",
       "Slight     563801\n",
       "dtype: int64"
      ]
     },
     "execution_count": 62,
     "metadata": {},
     "output_type": "execute_result"
    }
   ],
   "source": [
    "accidents_by_severity"
   ]
  },
  {
   "cell_type": "markdown",
   "id": "e9669e7e-135f-4bef-92cf-07a6836949d7",
   "metadata": {},
   "source": [
    "<h1>Insight 2</h1>\n",
    "<h2> Average casualties per year </h2>"
   ]
  },
  {
   "cell_type": "code",
   "execution_count": 98,
   "id": "1a07f022-fabd-411f-99c3-6f80697102f7",
   "metadata": {},
   "outputs": [],
   "source": [
    "avg_casualties = ac.groupby('Year')['Number_of_Casualties'].mean()"
   ]
  },
  {
   "cell_type": "code",
   "execution_count": 99,
   "id": "93cae3ae-877b-4e14-ae73-aa7f828c2c0b",
   "metadata": {},
   "outputs": [
    {
     "data": {
      "text/plain": [
       "Year\n",
       "2019.0    1.358092\n",
       "2020.0    1.349002\n",
       "2021.0    1.351115\n",
       "2022.0    1.349934\n",
       "Name: Number_of_Casualties, dtype: float64"
      ]
     },
     "execution_count": 99,
     "metadata": {},
     "output_type": "execute_result"
    }
   ],
   "source": [
    "avg_casualties"
   ]
  },
  {
   "cell_type": "markdown",
   "id": "584f8b87-9aea-47a6-bc9b-94749322f419",
   "metadata": {},
   "source": [
    "<h1>Insight 3</h1>\n",
    "<h2> How many accident happen in the light condition \"Day Light\" in 2019 </h2>"
   ]
  },
  {
   "cell_type": "code",
   "execution_count": 65,
   "id": "f37c5fe0-be2f-45e1-8736-59fecaef7fb2",
   "metadata": {},
   "outputs": [
    {
     "data": {
      "text/plain": [
       "Series([], Name: count, dtype: int64)"
      ]
     },
     "execution_count": 65,
     "metadata": {},
     "output_type": "execute_result"
    }
   ],
   "source": [
    "ac_2019 = ac[ac['Year'] == 2019]\n",
    "\n",
    "day_light_sum = ac_2019[(ac_2019[\"Light_Conditions\"] == \"daylight\")].value_counts()\n",
    "\n",
    "day_light_sum"
   ]
  },
  {
   "cell_type": "markdown",
   "id": "a65adc5e-3bb6-416d-8601-be860b813656",
   "metadata": {},
   "source": [
    "<h1>Insight 3</h1>\n",
    "<h2> Number of accidents by vehicle type </h2>"
   ]
  },
  {
   "cell_type": "code",
   "execution_count": 66,
   "id": "efcddec5-f4b8-4521-93e0-f8d82f187d4f",
   "metadata": {},
   "outputs": [
    {
     "data": {
      "text/plain": [
       "Vehicle_Type\n",
       "Agricultural vehicle                       1947\n",
       "Bus or coach (17 or more pass seats)      25878\n",
       "Car                                      497992\n",
       "Data missing or out of range                  6\n",
       "Goods 7.5 tonnes mgw and over             17307\n",
       "Goods over 3.5t. and under 7.5t            6096\n",
       "Minibus (8 - 16 passenger seats)           1976\n",
       "Motorcycle 125cc and under                15269\n",
       "Motorcycle 50cc and under                  7603\n",
       "Motorcycle over 125cc and up to 500cc      7656\n",
       "Motorcycle over 500cc                     25657\n",
       "Other vehicle                              5637\n",
       "Pedal cycle                                 197\n",
       "Ridden horse                                  4\n",
       "Taxi/Private hire car                     13294\n",
       "Van / Goods 3.5 tonnes mgw or under       34160\n",
       "dtype: int64"
      ]
     },
     "execution_count": 66,
     "metadata": {},
     "output_type": "execute_result"
    }
   ],
   "source": [
    "accidents_by_vehicle_type = ac.groupby('Vehicle_Type').size()\n",
    "accidents_by_vehicle_type"
   ]
  },
  {
   "cell_type": "markdown",
   "id": "46916a51-3981-4943-ab22-72384c1b8597",
   "metadata": {},
   "source": [
    "<h1>Insight 4</h1>\n",
    "<h2> Average number of casualties per vehicle type </h2>"
   ]
  },
  {
   "cell_type": "code",
   "execution_count": 67,
   "id": "8dd62905-f138-49a9-bba0-61f70528bbeb",
   "metadata": {},
   "outputs": [
    {
     "data": {
      "text/plain": [
       "Vehicle_Type\n",
       "Agricultural vehicle                     1.342065\n",
       "Bus or coach (17 or more pass seats)     1.349216\n",
       "Car                                      1.358841\n",
       "Data missing or out of range             1.500000\n",
       "Goods 7.5 tonnes mgw and over            1.351881\n",
       "Goods over 3.5t. and under 7.5t          1.362861\n",
       "Minibus (8 - 16 passenger seats)         1.345648\n",
       "Motorcycle 125cc and under               1.332635\n",
       "Motorcycle 50cc and under                1.337235\n",
       "Motorcycle over 125cc and up to 500cc    1.343521\n",
       "Motorcycle over 500cc                    1.359434\n",
       "Other vehicle                            1.340075\n",
       "Pedal cycle                              1.370558\n",
       "Ridden horse                             1.250000\n",
       "Taxi/Private hire car                    1.368663\n",
       "Van / Goods 3.5 tonnes mgw or under      1.354537\n",
       "Name: Number_of_Casualties, dtype: float64"
      ]
     },
     "execution_count": 67,
     "metadata": {},
     "output_type": "execute_result"
    }
   ],
   "source": [
    "avg_casualties_by_vehicle = ac.groupby('Vehicle_Type')['Number_of_Casualties'].mean()\n",
    "avg_casualties_by_vehicle"
   ]
  },
  {
   "cell_type": "markdown",
   "id": "428392d4-f092-4fe3-8807-92816e40f4b3",
   "metadata": {},
   "source": [
    "<h1>Insight 5</h1>\n",
    "<h2> Road types with the most accidents </h2>"
   ]
  },
  {
   "cell_type": "code",
   "execution_count": 68,
   "id": "7be84737-596f-43f9-bac7-8c6bae5771b4",
   "metadata": {},
   "outputs": [
    {
     "data": {
      "text/plain": [
       "Road_Type\n",
       "Dual carriageway       99424\n",
       "One way street         13559\n",
       "Roundabout             43992\n",
       "Single carriageway    492143\n",
       "Slip road               7041\n",
       "dtype: int64"
      ]
     },
     "execution_count": 68,
     "metadata": {},
     "output_type": "execute_result"
    }
   ],
   "source": [
    "accidents_by_road_type = ac.groupby('Road_Type').size()\n",
    "accidents_by_road_type"
   ]
  },
  {
   "cell_type": "markdown",
   "id": "d1350f52-3346-4653-aabb-6d8b660dec5a",
   "metadata": {},
   "source": [
    "<h1>Insight 6</h1>\n",
    "<h2> Urban vs rural accidents </h2>"
   ]
  },
  {
   "cell_type": "code",
   "execution_count": 69,
   "id": "fc77b9ac-6bec-4237-8980-7b95a2c54cac",
   "metadata": {},
   "outputs": [
    {
     "data": {
      "text/plain": [
       "Urban_or_Rural_Area\n",
       "Rural          238990\n",
       "Unallocated        11\n",
       "Urban          421678\n",
       "dtype: int64"
      ]
     },
     "execution_count": 69,
     "metadata": {},
     "output_type": "execute_result"
    }
   ],
   "source": [
    "accidents_by_area = ac.groupby('Urban_or_Rural_Area').size()\n",
    "accidents_by_area"
   ]
  },
  {
   "cell_type": "markdown",
   "id": "4beb11a2-4640-425b-9b2f-196bac9ac07b",
   "metadata": {},
   "source": [
    "<h1>Insight 7</h1>\n",
    "<h2> How does the number of casualties vary between urban and rural areas during different months? </h2>"
   ]
  },
  {
   "cell_type": "code",
   "execution_count": 90,
   "id": "e8bf4637-6ba0-4c40-bfe1-8d08003244d0",
   "metadata": {},
   "outputs": [
    {
     "data": {
      "text/plain": [
       "Urban_or_Rural_Area  Month\n",
       "Rural                1.0      1.449215\n",
       "                     2.0      1.436782\n",
       "                     3.0      1.439412\n",
       "                     4.0      1.525697\n",
       "                     5.0      1.480169\n",
       "                     6.0      1.464091\n",
       "                     7.0      1.461311\n",
       "                     8.0      1.521781\n",
       "                     9.0      1.469270\n",
       "                     10.0     1.462834\n",
       "                     11.0     1.461959\n",
       "                     12.0     1.455143\n",
       "Unallocated          5.0      2.000000\n",
       "                     6.0      1.000000\n",
       "                     7.0      1.000000\n",
       "Urban                1.0      1.304129\n",
       "                     2.0      1.274305\n",
       "                     3.0      1.281721\n",
       "                     4.0      1.300217\n",
       "                     5.0      1.288494\n",
       "                     6.0      1.273007\n",
       "                     7.0      1.287726\n",
       "                     8.0      1.301127\n",
       "                     9.0      1.292286\n",
       "                     10.0     1.273453\n",
       "                     11.0     1.287844\n",
       "                     12.0     1.276680\n",
       "Name: Number_of_Casualties, dtype: float64"
      ]
     },
     "execution_count": 90,
     "metadata": {},
     "output_type": "execute_result"
    }
   ],
   "source": [
    "casualties_by_area_month = ac.groupby(['Urban_or_Rural_Area', 'Month'])['Number_of_Casualties'].mean()\n",
    "casualties_by_area_month"
   ]
  },
  {
   "cell_type": "markdown",
   "id": "3807e885-2951-4a44-9c33-faa6f8ce7ffe",
   "metadata": {},
   "source": [
    "<h1>Insight 8</h1>\n",
    "<h2> Average number of vehicles involved in accidents per year </h2>"
   ]
  },
  {
   "cell_type": "code",
   "execution_count": 71,
   "id": "7147866b-0cd4-482e-8198-d08d72725fad",
   "metadata": {},
   "outputs": [
    {
     "data": {
      "text/plain": [
       "Year\n",
       "2019.0    1.837784\n",
       "2020.0    1.827145\n",
       "2021.0    1.823475\n",
       "2022.0    1.832004\n",
       "Name: Number_of_Vehicles, dtype: float64"
      ]
     },
     "execution_count": 71,
     "metadata": {},
     "output_type": "execute_result"
    }
   ],
   "source": [
    "avg_vehicles_per_year = ac.groupby('Year')['Number_of_Vehicles'].mean()\n",
    "avg_vehicles_per_year"
   ]
  },
  {
   "cell_type": "markdown",
   "id": "c30af67d-3ce3-45c9-b2be-e8a0436e63c6",
   "metadata": {},
   "source": [
    "<h1>Insight 9</h1>\n",
    "<h2> Average casualties in different weather conditions </h2>"
   ]
  },
  {
   "cell_type": "code",
   "execution_count": 72,
   "id": "5896c8c4-14be-4d9d-92d9-f1d09d852102",
   "metadata": {},
   "outputs": [
    {
     "data": {
      "text/plain": [
       "Weather_Conditions\n",
       "Fine + high winds        1.386018\n",
       "Fine no high winds       1.350480\n",
       "Fog or mist              1.452948\n",
       "Other                    1.354869\n",
       "Raining + high winds     1.416641\n",
       "Raining no high winds    1.408214\n",
       "Snowing + high winds     1.418079\n",
       "Snowing no high winds    1.341776\n",
       "unaccounted              1.233720\n",
       "Name: Number_of_Casualties, dtype: float64"
      ]
     },
     "execution_count": 72,
     "metadata": {},
     "output_type": "execute_result"
    }
   ],
   "source": [
    "avg_casualties_weather = ac.groupby('Weather_Conditions')['Number_of_Casualties'].mean()\n",
    "avg_casualties_weather"
   ]
  },
  {
   "cell_type": "markdown",
   "id": "7f7a53ca-e021-4296-80fd-21649059fef3",
   "metadata": {},
   "source": []
  },
  {
   "cell_type": "markdown",
   "id": "7d384d54-01e1-41d8-9017-9d908dd5b55d",
   "metadata": {},
   "source": [
    "<h1>Insight 10</h1>\n",
    "<h2> Most common district area for accidents </h2>"
   ]
  },
  {
   "cell_type": "code",
   "execution_count": 73,
   "id": "512a18d4-9cc2-45f0-b588-5294096ac280",
   "metadata": {},
   "outputs": [
    {
     "data": {
      "text/plain": [
       "'Birmingham'"
      ]
     },
     "execution_count": 73,
     "metadata": {},
     "output_type": "execute_result"
    }
   ],
   "source": [
    "most_common_area = ac['District Area'].mode()[0]\n",
    "most_common_area"
   ]
  },
  {
   "cell_type": "markdown",
   "id": "58d82a02-72b8-4f10-bd36-f51ce20211ed",
   "metadata": {},
   "source": [
    "<h1>Insight 11</h1>\n",
    "<h2> How does accident severity vary across different districts? </h2>"
   ]
  },
  {
   "cell_type": "code",
   "execution_count": 74,
   "id": "29ffdcf8-15c1-4d99-9baf-76c11064ae0f",
   "metadata": {},
   "outputs": [
    {
     "data": {
      "text/plain": [
       "District Area  Accident_Severity\n",
       "Aberdeen City  Slight               1072\n",
       "               Serious               239\n",
       "               Fatal                  12\n",
       "Aberdeenshire  Slight               1401\n",
       "               Serious               463\n",
       "                                    ... \n",
       "Wyre Forest    Serious               132\n",
       "               Fatal                  22\n",
       "York           Slight               1621\n",
       "               Serious               255\n",
       "               Fatal                  21\n",
       "Name: count, Length: 1266, dtype: int64"
      ]
     },
     "execution_count": 74,
     "metadata": {},
     "output_type": "execute_result"
    }
   ],
   "source": [
    "accidents_by_district = ac.groupby('District Area')['Accident_Severity'].value_counts()\n",
    "accidents_by_district"
   ]
  },
  {
   "cell_type": "markdown",
   "id": "015dfc28-4bd5-42b2-9881-9720b76b84e3",
   "metadata": {},
   "source": [
    "<h1>Insight 12</h1>\n",
    "<h2> How do weather conditions impact the number of vehicles involved in accidents? </h2>"
   ]
  },
  {
   "cell_type": "code",
   "execution_count": 75,
   "id": "a23662e1-f250-4285-92fd-75e6816af981",
   "metadata": {},
   "outputs": [
    {
     "data": {
      "text/plain": [
       "Weather_Conditions\n",
       "Fine + high winds        1.779401\n",
       "Fine no high winds       1.836809\n",
       "Fog or mist              1.807823\n",
       "Other                    1.777668\n",
       "Raining + high winds     1.777951\n",
       "Raining no high winds    1.831610\n",
       "Snowing + high winds     1.737853\n",
       "Snowing no high winds    1.754889\n",
       "unaccounted              1.802661\n",
       "Name: Number_of_Vehicles, dtype: float64"
      ]
     },
     "execution_count": 75,
     "metadata": {},
     "output_type": "execute_result"
    }
   ],
   "source": [
    "avg_vehicles_by_weather = ac.groupby('Weather_Conditions')['Number_of_Vehicles'].mean()\n",
    "avg_vehicles_by_weather"
   ]
  },
  {
   "cell_type": "markdown",
   "id": "84a54281-6f48-4372-acc5-36d4b667e775",
   "metadata": {},
   "source": [
    "<h1>Insight 13</h1>\n",
    "<h2>  Which vehicle types are most frequently involved in accidents? </h2>"
   ]
  },
  {
   "cell_type": "code",
   "execution_count": 89,
   "id": "8de2912c-063f-4b4c-8522-07f85b63b4ac",
   "metadata": {},
   "outputs": [
    {
     "data": {
      "text/plain": [
       "'Car'"
      ]
     },
     "execution_count": 89,
     "metadata": {},
     "output_type": "execute_result"
    }
   ],
   "source": [
    "accidents_by_vehicle_type_count = ac.groupby('Vehicle_Type').size().idxmax()\n",
    "accidents_by_vehicle_type_count"
   ]
  },
  {
   "cell_type": "markdown",
   "id": "9501050e-8c04-41fb-a74d-cd376428ae6a",
   "metadata": {},
   "source": [
    "<h1>Insight 14</h1>\n",
    "<h2> How do accident casualties change based on the number of vehicles involved? </h2>\n"
   ]
  },
  {
   "cell_type": "code",
   "execution_count": 77,
   "id": "b1156e9c-f97a-47bf-b251-d14cdb9197c6",
   "metadata": {},
   "outputs": [
    {
     "data": {
      "text/plain": [
       "Number_of_Vehicles\n",
       "1      1.170932\n",
       "2      1.374880\n",
       "3      1.711169\n",
       "4      1.995575\n",
       "5      2.315341\n",
       "6      2.612137\n",
       "7      3.064189\n",
       "8      3.401361\n",
       "9      3.350877\n",
       "10     3.629630\n",
       "11     4.000000\n",
       "12     2.285714\n",
       "13     7.833333\n",
       "14     5.444444\n",
       "15     5.000000\n",
       "16     6.000000\n",
       "19    13.000000\n",
       "28    16.000000\n",
       "32     5.000000\n",
       "Name: Number_of_Casualties, dtype: float64"
      ]
     },
     "execution_count": 77,
     "metadata": {},
     "output_type": "execute_result"
    }
   ],
   "source": [
    "avg_casualties_by_vehicle_count = ac.groupby('Number_of_Vehicles')['Number_of_Casualties'].mean()\n",
    "avg_casualties_by_vehicle_count"
   ]
  },
  {
   "cell_type": "markdown",
   "id": "59810340-a335-4e09-aed3-43acfbf36b43",
   "metadata": {},
   "source": [
    "<h1>Insight 15</h1>\n",
    "<h2> What is the average number of casualties for each district area? </h2>"
   ]
  },
  {
   "cell_type": "code",
   "execution_count": 78,
   "id": "50af64d1-5749-4243-a4be-2fc50da48d2b",
   "metadata": {},
   "outputs": [
    {
     "data": {
      "text/plain": [
       "District Area\n",
       "Aberdeen City    1.139834\n",
       "Aberdeenshire    1.310363\n",
       "Adur             1.319871\n",
       "Allerdale        1.474291\n",
       "Alnwick          1.512931\n",
       "                   ...   \n",
       "Wychavon         1.427627\n",
       "Wycombe          1.412377\n",
       "Wyre             1.378029\n",
       "Wyre Forest      1.382869\n",
       "York             1.293094\n",
       "Name: Number_of_Casualties, Length: 422, dtype: float64"
      ]
     },
     "execution_count": 78,
     "metadata": {},
     "output_type": "execute_result"
    }
   ],
   "source": [
    "avg_casualties_by_district = ac.groupby('District Area')['Number_of_Casualties'].mean()\n",
    "avg_casualties_by_district"
   ]
  },
  {
   "cell_type": "code",
   "execution_count": null,
   "id": "03efb65f-303a-47d7-a558-4e241d8bab04",
   "metadata": {},
   "outputs": [],
   "source": [
    "The numbe of average is 1.3"
   ]
  },
  {
   "cell_type": "markdown",
   "id": "d799fcca-2843-4b30-ab57-37a852b2dc14",
   "metadata": {},
   "source": [
    "<h1>Insight 16</h1>\n",
    "<h2> What is the trend of accidents by month across multiple years? </h2>"
   ]
  },
  {
   "cell_type": "code",
   "execution_count": 94,
   "id": "dbf8316b-0d23-454e-a317-b072f1f05db9",
   "metadata": {},
   "outputs": [
    {
     "data": {
      "text/plain": [
       "Month\n",
       "1.0     18252\n",
       "2.0     22264\n",
       "3.0     21824\n",
       "4.0     19787\n",
       "5.0     21723\n",
       "6.0     22196\n",
       "7.0     22939\n",
       "8.0     21106\n",
       "9.0     22558\n",
       "10.0    23962\n",
       "11.0    24240\n",
       "12.0    24156\n",
       "dtype: int64"
      ]
     },
     "execution_count": 94,
     "metadata": {},
     "output_type": "execute_result"
    }
   ],
   "source": [
    "accidents_by_month_year = ac.groupby(['Year', 'Month']).size().unstack().sum()\n",
    "accidents_by_month_year"
   ]
  },
  {
   "cell_type": "markdown",
   "id": "d47f18dd-80ab-41fe-8978-f61015e6f9e4",
   "metadata": {},
   "source": [
    "<h1>Insight 17</h1>\n",
    "<h2>  How many accidents involve more than one vehicle? </h2>"
   ]
  },
  {
   "cell_type": "code",
   "execution_count": 80,
   "id": "285f1273-d278-49b5-a1f1-10251055ab3a",
   "metadata": {},
   "outputs": [
    {
     "data": {
      "text/plain": [
       "459892"
      ]
     },
     "execution_count": 80,
     "metadata": {},
     "output_type": "execute_result"
    }
   ],
   "source": [
    "accidents_multiple_vehicles = ac[ac['Number_of_Vehicles'] > 1].shape[0]\n",
    "accidents_multiple_vehicles"
   ]
  },
  {
   "cell_type": "markdown",
   "id": "fe4bec6d-77f2-47fd-b579-ced8740b1bc7",
   "metadata": {},
   "source": [
    "<h1>Insight 18</h1>\n",
    "<h2>  What is the relationship between weather conditions and accident severity? </h2>"
   ]
  },
  {
   "cell_type": "code",
   "execution_count": 81,
   "id": "19537fbd-3799-4dd9-b3c3-fdc627ab24b0",
   "metadata": {},
   "outputs": [
    {
     "data": {
      "text/plain": [
       "Accident_Severity\n",
       "Fatal        8661\n",
       "Serious     88217\n",
       "Slight     563801\n",
       "dtype: int64"
      ]
     },
     "execution_count": 81,
     "metadata": {},
     "output_type": "execute_result"
    }
   ],
   "source": [
    "weather_severity_relation = ac.groupby(['Weather_Conditions', 'Accident_Severity']).size().unstack().sum()\n",
    "weather_severity_relation"
   ]
  },
  {
   "cell_type": "markdown",
   "id": "697ed29c-c4e3-4401-867d-c31d489ecd88",
   "metadata": {},
   "source": [
    "<h1>Insight 19</h1>\n",
    "<h2> What is the average number of casualties for accidents involving motorcycles? </h2>"
   ]
  },
  {
   "cell_type": "code",
   "execution_count": 82,
   "id": "b6e892fd-6c7f-465b-a402-3c69b6a2c463",
   "metadata": {},
   "outputs": [
    {
     "data": {
      "text/plain": [
       "nan"
      ]
     },
     "execution_count": 82,
     "metadata": {},
     "output_type": "execute_result"
    }
   ],
   "source": [
    "avg_casualties_motorcycles = ac[ac['Vehicle_Type'] == 'Motorcycle']['Number_of_Casualties'].mean()\n",
    "avg_casualties_motorcycles"
   ]
  },
  {
   "cell_type": "markdown",
   "id": "8e340100-7f2e-4593-8a86-d6700707fcf3",
   "metadata": {},
   "source": [
    "<h1>Insight 20</h1>\n",
    "<h2> Correlation between number of vehicles and number of casualties </h2>"
   ]
  },
  {
   "cell_type": "code",
   "execution_count": 91,
   "id": "4ab6cb85-e490-4429-bc3d-cb1f581006ec",
   "metadata": {},
   "outputs": [
    {
     "data": {
      "text/plain": [
       "np.float64(0.22888886126926722)"
      ]
     },
     "execution_count": 91,
     "metadata": {},
     "output_type": "execute_result"
    }
   ],
   "source": [
    "vehicle_casualty_corr = ac[['Number_of_Vehicles', 'Number_of_Casualties']].corr().iloc[0, 1]\n",
    "vehicle_casualty_corr"
   ]
  },
  {
   "cell_type": "markdown",
   "id": "cd207abd-ebc1-4f86-941c-2e9f1fdb42c2",
   "metadata": {},
   "source": [
    "<h1>Insight 21</h1>\n",
    "<h2> What year is the highest number of casualties </h2>"
   ]
  },
  {
   "cell_type": "code",
   "execution_count": 101,
   "id": "26c949ba-6eaa-447f-9f22-fbb9c0cabe7a",
   "metadata": {},
   "outputs": [
    {
     "data": {
      "text/plain": [
       "Year\n",
       "2019.0    97602\n",
       "2020.0    94650\n",
       "2021.0    89406\n",
       "2022.0    76683\n",
       "Name: Number_of_Casualties, dtype: int64"
      ]
     },
     "execution_count": 101,
     "metadata": {},
     "output_type": "execute_result"
    }
   ],
   "source": [
    "avg_casualties = ac.groupby('Year')['Number_of_Casualties'].sum()\n",
    "avg_casualties"
   ]
  },
  {
   "cell_type": "markdown",
   "id": "569e6f97-8e81-442f-9647-bdd20c8b05b2",
   "metadata": {},
   "source": [
    "<h1>Insight 22</h1>\n",
    "<h2> What year is the highest number of Accident </h2>"
   ]
  },
  {
   "cell_type": "code",
   "execution_count": 112,
   "id": "73e69c80-6d60-4eda-9cae-cd317271be87",
   "metadata": {},
   "outputs": [
    {
     "data": {
      "text/plain": [
       "Year    Accident Date\n",
       "2019.0  2019-12-06       678\n",
       "        2019-02-01       676\n",
       "        2019-10-05       657\n",
       "        2019-12-12       655\n",
       "        2019-12-11       653\n",
       "                        ... \n",
       "2022.0  2022-01-09       236\n",
       "        2022-12-02       236\n",
       "        2022-04-05       231\n",
       "        2022-02-07       213\n",
       "        2022-01-10       123\n",
       "Name: count, Length: 576, dtype: int64"
      ]
     },
     "execution_count": 112,
     "metadata": {},
     "output_type": "execute_result"
    }
   ],
   "source": [
    "avg_casualties = ac.groupby('Year')['Accident Date'].value_counts()\n",
    "avg_casualties"
   ]
  },
  {
   "cell_type": "markdown",
   "id": "03003cbc-d52a-4fd4-abed-c83cf498159c",
   "metadata": {},
   "source": [
    "<h1>Insight 23</h1>\n",
    "<h2> What is the most common accident severity in urban vs rural areas? </h2>"
   ]
  },
  {
   "cell_type": "code",
   "execution_count": 114,
   "id": "ca2a436e-2ec2-4448-9800-a902253e5b8d",
   "metadata": {},
   "outputs": [
    {
     "data": {
      "text/plain": [
       "Urban_or_Rural_Area\n",
       "Rural          Slight\n",
       "Unallocated    Slight\n",
       "Urban          Slight\n",
       "Name: Accident_Severity, dtype: category\n",
       "Categories (3, object): ['Fatal', 'Serious', 'Slight']"
      ]
     },
     "execution_count": 114,
     "metadata": {},
     "output_type": "execute_result"
    }
   ],
   "source": [
    "most_comm_severity_area = ac.groupby(\"Urban_or_Rural_Area\")[\"Accident_Severity\"].agg(lambda x: x.mode()[0])\n",
    "most_comm_severity_area"
   ]
  },
  {
   "cell_type": "code",
   "execution_count": null,
   "id": "4c8da181-cb19-4497-965a-168c7953b943",
   "metadata": {},
   "outputs": [],
   "source": []
  }
 ],
 "metadata": {
  "kernelspec": {
   "display_name": "Python 3 (ipykernel)",
   "language": "python",
   "name": "python3"
  },
  "language_info": {
   "codemirror_mode": {
    "name": "ipython",
    "version": 3
   },
   "file_extension": ".py",
   "mimetype": "text/x-python",
   "name": "python",
   "nbconvert_exporter": "python",
   "pygments_lexer": "ipython3",
   "version": "3.13.2"
  }
 },
 "nbformat": 4,
 "nbformat_minor": 5
}
