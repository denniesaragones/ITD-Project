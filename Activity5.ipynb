{
 "cells": [
  {
   "cell_type": "code",
   "execution_count": 1,
   "id": "87a74a47-f877-4283-b5f0-88dfeb266c8b",
   "metadata": {},
   "outputs": [],
   "source": [
    "import numpy as np\n",
    "import pandas as pd\n",
    "import seaborn as sns\n",
    "import matplotlib.pyplot as plt\n",
    "from scipy.stats import f_oneway\n",
    "import warnings\n",
    "warnings.filterwarnings('ignore')"
   ]
  },
  {
   "cell_type": "code",
   "execution_count": 7,
   "id": "f5118988-901d-4edf-b4e4-46f9a67d88c9",
   "metadata": {},
   "outputs": [],
   "source": [
    "net = pd.read_csv('datasets\\\\Internet-Demographic.csv')"
   ]
  },
  {
   "cell_type": "code",
   "execution_count": 8,
   "id": "6b42cc71-b070-4268-814b-ce98719ebd5b",
   "metadata": {},
   "outputs": [
    {
     "data": {
      "text/html": [
       "<div>\n",
       "<style scoped>\n",
       "    .dataframe tbody tr th:only-of-type {\n",
       "        vertical-align: middle;\n",
       "    }\n",
       "\n",
       "    .dataframe tbody tr th {\n",
       "        vertical-align: top;\n",
       "    }\n",
       "\n",
       "    .dataframe thead th {\n",
       "        text-align: right;\n",
       "    }\n",
       "</style>\n",
       "<table border=\"1\" class=\"dataframe\">\n",
       "  <thead>\n",
       "    <tr style=\"text-align: right;\">\n",
       "      <th></th>\n",
       "      <th>Country Name</th>\n",
       "      <th>Country Code</th>\n",
       "      <th>Birth rate</th>\n",
       "      <th>Internet users</th>\n",
       "      <th>Income Group</th>\n",
       "    </tr>\n",
       "  </thead>\n",
       "  <tbody>\n",
       "    <tr>\n",
       "      <th>0</th>\n",
       "      <td>Aruba</td>\n",
       "      <td>ABW</td>\n",
       "      <td>10.244</td>\n",
       "      <td>78.9</td>\n",
       "      <td>High income</td>\n",
       "    </tr>\n",
       "    <tr>\n",
       "      <th>1</th>\n",
       "      <td>Afghanistan</td>\n",
       "      <td>AFG</td>\n",
       "      <td>35.253</td>\n",
       "      <td>5.9</td>\n",
       "      <td>Low income</td>\n",
       "    </tr>\n",
       "    <tr>\n",
       "      <th>2</th>\n",
       "      <td>Angola</td>\n",
       "      <td>AGO</td>\n",
       "      <td>45.985</td>\n",
       "      <td>19.1</td>\n",
       "      <td>Upper middle income</td>\n",
       "    </tr>\n",
       "    <tr>\n",
       "      <th>3</th>\n",
       "      <td>Albania</td>\n",
       "      <td>ALB</td>\n",
       "      <td>12.877</td>\n",
       "      <td>57.2</td>\n",
       "      <td>Upper middle income</td>\n",
       "    </tr>\n",
       "    <tr>\n",
       "      <th>4</th>\n",
       "      <td>United Arab Emirates</td>\n",
       "      <td>ARE</td>\n",
       "      <td>11.044</td>\n",
       "      <td>88.0</td>\n",
       "      <td>High income</td>\n",
       "    </tr>\n",
       "    <tr>\n",
       "      <th>...</th>\n",
       "      <td>...</td>\n",
       "      <td>...</td>\n",
       "      <td>...</td>\n",
       "      <td>...</td>\n",
       "      <td>...</td>\n",
       "    </tr>\n",
       "    <tr>\n",
       "      <th>190</th>\n",
       "      <td>Yemen, Rep.</td>\n",
       "      <td>YEM</td>\n",
       "      <td>32.947</td>\n",
       "      <td>20.0</td>\n",
       "      <td>Lower middle income</td>\n",
       "    </tr>\n",
       "    <tr>\n",
       "      <th>191</th>\n",
       "      <td>South Africa</td>\n",
       "      <td>ZAF</td>\n",
       "      <td>20.850</td>\n",
       "      <td>46.5</td>\n",
       "      <td>Upper middle income</td>\n",
       "    </tr>\n",
       "    <tr>\n",
       "      <th>192</th>\n",
       "      <td>Congo, Dem. Rep.</td>\n",
       "      <td>COD</td>\n",
       "      <td>42.394</td>\n",
       "      <td>2.2</td>\n",
       "      <td>Low income</td>\n",
       "    </tr>\n",
       "    <tr>\n",
       "      <th>193</th>\n",
       "      <td>Zambia</td>\n",
       "      <td>ZMB</td>\n",
       "      <td>40.471</td>\n",
       "      <td>15.4</td>\n",
       "      <td>Lower middle income</td>\n",
       "    </tr>\n",
       "    <tr>\n",
       "      <th>194</th>\n",
       "      <td>Zimbabwe</td>\n",
       "      <td>ZWE</td>\n",
       "      <td>35.715</td>\n",
       "      <td>18.5</td>\n",
       "      <td>Low income</td>\n",
       "    </tr>\n",
       "  </tbody>\n",
       "</table>\n",
       "<p>195 rows × 5 columns</p>\n",
       "</div>"
      ],
      "text/plain": [
       "             Country Name Country Code  Birth rate  Internet users  \\\n",
       "0                   Aruba          ABW      10.244            78.9   \n",
       "1             Afghanistan          AFG      35.253             5.9   \n",
       "2                  Angola          AGO      45.985            19.1   \n",
       "3                 Albania          ALB      12.877            57.2   \n",
       "4    United Arab Emirates          ARE      11.044            88.0   \n",
       "..                    ...          ...         ...             ...   \n",
       "190           Yemen, Rep.          YEM      32.947            20.0   \n",
       "191          South Africa          ZAF      20.850            46.5   \n",
       "192      Congo, Dem. Rep.          COD      42.394             2.2   \n",
       "193                Zambia          ZMB      40.471            15.4   \n",
       "194              Zimbabwe          ZWE      35.715            18.5   \n",
       "\n",
       "            Income Group  \n",
       "0            High income  \n",
       "1             Low income  \n",
       "2    Upper middle income  \n",
       "3    Upper middle income  \n",
       "4            High income  \n",
       "..                   ...  \n",
       "190  Lower middle income  \n",
       "191  Upper middle income  \n",
       "192           Low income  \n",
       "193  Lower middle income  \n",
       "194           Low income  \n",
       "\n",
       "[195 rows x 5 columns]"
      ]
     },
     "execution_count": 8,
     "metadata": {},
     "output_type": "execute_result"
    }
   ],
   "source": [
    "net"
   ]
  },
  {
   "cell_type": "markdown",
   "id": "bd8c6289-b3ad-4936-8018-53a82e595ee3",
   "metadata": {},
   "source": [
    "<h1>Birth Rates</h1>"
   ]
  },
  {
   "cell_type": "code",
   "execution_count": 23,
   "id": "e405a3dd-f90d-42d3-a6ae-0f6115f70844",
   "metadata": {},
   "outputs": [
    {
     "data": {
      "text/plain": [
       "Birth rate\n",
       "10.200    5\n",
       "9.200     4\n",
       "12.500    3\n",
       "8.500     3\n",
       "9.400     2\n",
       "         ..\n",
       "32.947    1\n",
       "20.850    1\n",
       "42.394    1\n",
       "40.471    1\n",
       "35.715    1\n",
       "Name: count, Length: 177, dtype: int64"
      ]
     },
     "execution_count": 23,
     "metadata": {},
     "output_type": "execute_result"
    }
   ],
   "source": [
    "net['Birth rate'].value_counts()"
   ]
  },
  {
   "cell_type": "markdown",
   "id": "11a8d5fe-6887-4c23-8b74-c577c9285f10",
   "metadata": {},
   "source": [
    "<h1>Top 5 Internet Users</h1>"
   ]
  },
  {
   "cell_type": "code",
   "execution_count": 10,
   "id": "7b380b00-bb85-46d2-a0e6-640775bb516e",
   "metadata": {},
   "outputs": [
    {
     "data": {
      "text/plain": [
       "np.float64(42.07647089194872)"
      ]
     },
     "execution_count": 10,
     "metadata": {},
     "output_type": "execute_result"
    }
   ],
   "source": [
    "net['Internet users'].mean()\n"
   ]
  },
  {
   "cell_type": "code",
   "execution_count": 12,
   "id": "4514a76d-0c21-4501-ac36-d820a77e0f0a",
   "metadata": {},
   "outputs": [
    {
     "data": {
      "text/plain": [
       "np.float64(67.686133746875)"
      ]
     },
     "execution_count": 12,
     "metadata": {},
     "output_type": "execute_result"
    }
   ],
   "source": [
    "net2 = net[net['Internet users'] >42]\n",
    "net2['Internet users'].mean()"
   ]
  },
  {
   "cell_type": "code",
   "execution_count": 16,
   "id": "b060abc3-23d3-446d-a095-64aa5f9694b8",
   "metadata": {},
   "outputs": [
    {
     "data": {
      "text/plain": [
       "np.float64(81.75577865999999)"
      ]
     },
     "execution_count": 16,
     "metadata": {},
     "output_type": "execute_result"
    }
   ],
   "source": [
    "net3 = net2[net2['Internet users'] >67]\n",
    "net3['Internet users'].mean()"
   ]
  },
  {
   "cell_type": "code",
   "execution_count": 18,
   "id": "34b1286d-019f-4f24-848b-213fbcc88839",
   "metadata": {},
   "outputs": [
    {
     "data": {
      "text/html": [
       "<div>\n",
       "<style scoped>\n",
       "    .dataframe tbody tr th:only-of-type {\n",
       "        vertical-align: middle;\n",
       "    }\n",
       "\n",
       "    .dataframe tbody tr th {\n",
       "        vertical-align: top;\n",
       "    }\n",
       "\n",
       "    .dataframe thead th {\n",
       "        text-align: right;\n",
       "    }\n",
       "</style>\n",
       "<table border=\"1\" class=\"dataframe\">\n",
       "  <thead>\n",
       "    <tr style=\"text-align: right;\">\n",
       "      <th></th>\n",
       "      <th>Country Name</th>\n",
       "      <th>Country Code</th>\n",
       "      <th>Birth rate</th>\n",
       "      <th>Internet users</th>\n",
       "      <th>Income Group</th>\n",
       "    </tr>\n",
       "  </thead>\n",
       "  <tbody>\n",
       "    <tr>\n",
       "      <th>22</th>\n",
       "      <td>Bermuda</td>\n",
       "      <td>BMU</td>\n",
       "      <td>10.4</td>\n",
       "      <td>95.3000</td>\n",
       "      <td>High income</td>\n",
       "    </tr>\n",
       "    <tr>\n",
       "      <th>47</th>\n",
       "      <td>Denmark</td>\n",
       "      <td>DNK</td>\n",
       "      <td>10.0</td>\n",
       "      <td>94.6297</td>\n",
       "      <td>High income</td>\n",
       "    </tr>\n",
       "    <tr>\n",
       "      <th>84</th>\n",
       "      <td>Iceland</td>\n",
       "      <td>ISL</td>\n",
       "      <td>13.4</td>\n",
       "      <td>96.5468</td>\n",
       "      <td>High income</td>\n",
       "    </tr>\n",
       "    <tr>\n",
       "      <th>131</th>\n",
       "      <td>Norway</td>\n",
       "      <td>NOR</td>\n",
       "      <td>11.6</td>\n",
       "      <td>95.0534</td>\n",
       "      <td>High income</td>\n",
       "    </tr>\n",
       "    <tr>\n",
       "      <th>163</th>\n",
       "      <td>Sweden</td>\n",
       "      <td>SWE</td>\n",
       "      <td>11.8</td>\n",
       "      <td>94.7836</td>\n",
       "      <td>High income</td>\n",
       "    </tr>\n",
       "  </tbody>\n",
       "</table>\n",
       "</div>"
      ],
      "text/plain": [
       "    Country Name Country Code  Birth rate  Internet users Income Group\n",
       "22       Bermuda          BMU        10.4         95.3000  High income\n",
       "47       Denmark          DNK        10.0         94.6297  High income\n",
       "84       Iceland          ISL        13.4         96.5468  High income\n",
       "131       Norway          NOR        11.6         95.0534  High income\n",
       "163       Sweden          SWE        11.8         94.7836  High income"
      ]
     },
     "execution_count": 18,
     "metadata": {},
     "output_type": "execute_result"
    }
   ],
   "source": [
    "net2[net2['Internet users'] > 94]"
   ]
  },
  {
   "cell_type": "markdown",
   "id": "a64750f1-dace-4a8e-bf5f-ffb6a97875cc",
   "metadata": {},
   "source": [
    "<h1>count of countries by income grouph1>"
   ]
  },
  {
   "cell_type": "code",
   "execution_count": 1,
   "id": "c16062d4-9df3-4776-8178-58b93f9fbaab",
   "metadata": {},
   "outputs": [
    {
     "ename": "NameError",
     "evalue": "name 'net' is not defined",
     "output_type": "error",
     "traceback": [
      "\u001b[31m---------------------------------------------------------------------------\u001b[39m",
      "\u001b[31mNameError\u001b[39m                                 Traceback (most recent call last)",
      "\u001b[36mCell\u001b[39m\u001b[36m \u001b[39m\u001b[32mIn[1]\u001b[39m\u001b[32m, line 1\u001b[39m\n\u001b[32m----> \u001b[39m\u001b[32m1\u001b[39m income_counts = \u001b[43mnet\u001b[49m[\u001b[33m'\u001b[39m\u001b[33mIncome Group\u001b[39m\u001b[33m'\u001b[39m].value_counts().reset_index()\n\u001b[32m      2\u001b[39m income_counts.columns = [\u001b[33m'\u001b[39m\u001b[33mIncome Group\u001b[39m\u001b[33m'\u001b[39m, \u001b[33m'\u001b[39m\u001b[33mCount\u001b[39m\u001b[33m'\u001b[39m]\n\u001b[32m      3\u001b[39m \u001b[38;5;28mprint\u001b[39m(income_counts)\n",
      "\u001b[31mNameError\u001b[39m: name 'net' is not defined"
     ]
    }
   ],
   "source": [
    "income_counts = net['Income Group'].value_counts().reset_index()\n",
    "income_counts.columns = ['Income Group', 'Count']\n",
    "print(income_counts)\n"
   ]
  },
  {
   "cell_type": "markdown",
   "id": "30848f47-dc7a-4938-8c54-bfc7137882b8",
   "metadata": {},
   "source": [
    "<h1>box plot of internet usage</h1>"
   ]
  },
  {
   "cell_type": "code",
   "execution_count": null,
   "id": "00fa548f-fa54-4a41-9726-b0e972ab22de",
   "metadata": {},
   "outputs": [],
   "source": [
    "internet_users = net['Internet users'].dropna()\n",
    "\n",
    "# Create the box plot\n",
    "plt.figure(figsize=(8, 5))\n",
    "plt.boxplot(internet_users)\n",
    "plt.title('Box Plot of Internet Users')\n",
    "plt.ylabel('Percentage of Internet Users')\n",
    "plt.show()"
   ]
  },
  {
   "cell_type": "markdown",
   "id": "50cbb616-2c29-4701-ba3e-0f5c167ebcaa",
   "metadata": {},
   "source": [
    "<h1>countries with no internet access</h1>"
   ]
  },
  {
   "cell_type": "code",
   "execution_count": null,
   "id": "f3ac08e6-969e-4aac-ac2a-59cdf70a3eb6",
   "metadata": {},
   "outputs": [],
   "source": [
    "# Filter countries with no internet access (0 or NaN)\n",
    "no_internet_access = net[(net['Internet users'].isna()) | (net['Internet users'] == 0)]\n",
    "\n",
    "# Display the list of countries with no internet access\n",
    "print(no_internet_access[['Country Name', 'Internet users']])\n"
   ]
  },
  {
   "cell_type": "markdown",
   "id": "4c177261-d28e-4311-be50-7f91b499f707",
   "metadata": {},
   "source": [
    "<h1>average birth rate</h1>"
   ]
  },
  {
   "cell_type": "code",
   "execution_count": null,
   "id": "0218a4ee-652b-4847-b8f1-4fb2a76122e7",
   "metadata": {},
   "outputs": [],
   "source": [
    "# Calculate the average birth rate\n",
    "average_birth_rate = net['Birth rate'].mean()\n",
    "\n",
    "print(f\"Average Birth Rate: {average_birth_rate:.2f}\")\n"
   ]
  },
  {
   "cell_type": "markdown",
   "id": "1b10d054-1d7f-4946-91c3-7d66d9a541ea",
   "metadata": {},
   "source": [
    "<h1>scatter plot birth rate vs internet access</h1>"
   ]
  },
  {
   "cell_type": "code",
   "execution_count": null,
   "id": "8029218d-e53b-47b5-9b0b-ba3ea895968a",
   "metadata": {},
   "outputs": [],
   "source": [
    "filtered_data = net[['Birth rate', 'Internet users']].dropna()\n",
    "\n",
    "# Create the scatter plot\n",
    "plt.figure(figsize=(8, 5))\n",
    "plt.scatter(filtered_data['Internet users'], filtered_data['Birth rate'], alpha=0.7, color='blue')\n",
    "plt.title('Scatter Plot: Birth Rate vs Internet Access')\n",
    "plt.xlabel('Percentage of Internet Users')\n",
    "plt.ylabel('Birth Rate')\n",
    "plt.show()"
   ]
  },
  {
   "cell_type": "markdown",
   "id": "1412a7dc-e662-430c-b31f-dc5d2dbed1af",
   "metadata": {},
   "source": [
    "<h1>countries with birth rates above 40</h1>"
   ]
  },
  {
   "cell_type": "code",
   "execution_count": null,
   "id": "0ffdc519-1bc3-4b41-af4e-d3e5e4ca6ee3",
   "metadata": {},
   "outputs": [],
   "source": [
    "# Filter countries with birth rates above 40\n",
    "high_birth_rate = net[net['Birth rate'] > 40]\n",
    "\n",
    "# Display the list of countries and their birth rates\n",
    "print(high_birth_rate[['Country Name', 'Birth rate']])\n"
   ]
  },
  {
   "cell_type": "markdown",
   "id": "d5970798-0179-4f24-8f67-d4f6ec374895",
   "metadata": {},
   "source": [
    "<h1>pie chart of income groups</h1>"
   ]
  },
  {
   "cell_type": "code",
   "execution_count": null,
   "id": "0c0667db-b181-4003-9a8a-976ac3e73b38",
   "metadata": {},
   "outputs": [],
   "source": [
    "income_counts = net['Income Group'].value_counts()\n",
    "\n",
    "# Create a pie chart\n",
    "plt.figure(figsize=(8, 8))\n",
    "plt.pie(income_counts, labels=income_counts.index, autopct='%1.1f%%', startangle=90)\n",
    "plt.title('Pie Chart of Income Groups')\n",
    "plt.show()"
   ]
  },
  {
   "cell_type": "markdown",
   "id": "65d9d7f3-73d8-430d-892e-2a7cd556ab0c",
   "metadata": {},
   "source": [
    "<h1>Correlation between birth rate and internet usage</h1>"
   ]
  },
  {
   "cell_type": "code",
   "execution_count": null,
   "id": "24093b3c-d396-4155-9f44-10771567311f",
   "metadata": {},
   "outputs": [],
   "source": [
    "# Calculate the correlation between birth rate and internet users\n",
    "correlation = net['Birth rate'].corr(net['Internet users'])\n",
    "\n",
    "print(f\"Correlation between Birth Rate and Internet Usage: {correlation:.2f}\")\n"
   ]
  }
 ],
 "metadata": {
  "kernelspec": {
   "display_name": "Python 3 (ipykernel)",
   "language": "python",
   "name": "python3"
  },
  "language_info": {
   "codemirror_mode": {
    "name": "ipython",
    "version": 3
   },
   "file_extension": ".py",
   "mimetype": "text/x-python",
   "name": "python",
   "nbconvert_exporter": "python",
   "pygments_lexer": "ipython3",
   "version": "3.13.2"
  }
 },
 "nbformat": 4,
 "nbformat_minor": 5
}
